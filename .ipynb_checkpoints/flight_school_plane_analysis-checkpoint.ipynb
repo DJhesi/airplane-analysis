{
 "cells": [
  {
   "cell_type": "markdown",
   "metadata": {},
   "source": [
    "# Make Flying Safer by Choosing the Right Plane\n",
    "\n",
    "![How-to-Choose](./images/cessna_vs_piper.jpg)"
   ]
  },
  {
   "cell_type": "markdown",
   "metadata": {},
   "source": [
    "## Overview\n",
    "This project analyzes the risk associated with specific make and model aircrafts. A descriptive analysis of aviation accident data reveals variations in the frequency of fatal incidents among different planes. Additionally, it offers insights into the timing patterns of accidents throughout the year and highlights specific geographical regions within the continental U.S. where airplane accidents are more prevalent. Our recently established aviation school can leverage this analysis to make informed decisions on aircraft investments, pinpoint suitable locations for our operations, and develop well-timed schedules for lessons."
   ]
  },
  {
   "cell_type": "markdown",
   "metadata": {},
   "source": [
    "## Business Problem\n",
    "Our company is embarking on the establishment of a new flight school, with a primary focus on ensuring the safety of our students and bringing up a new generation of pilots. Our business will be broken into two stages for our students. First, the instructional phase where students will learn how to fly with instructor assistance. Second, the rental phase where after completing stage 1, students will be able to rent planes to log solo flight hours in order to gain their pilots license. To make informed decisions about the selection of aircraft for our training and rental fleet, we need a clear and visually insightful way to compare the safety records of different aircraft models.\n",
    "\n",
    "We will specifically investigate the most commonly used aircraft in flight schools. According to the [Pilot Institute](https://pilotinstitute.com/flight-school-aircraft/) and the [Aircraft Owners and Pilots Association](https://www.aopa.org/training-and-safety/learn-to-fly/flying-for-fun/choose-where-to-train/training-aircraft-review#:~:text=Cessna%20172%3A%20The%20Cessna%20172,%2Dinjected%20four%2Dcylinder%20engines.), the top aircraft make and models used in flight school are the Cessna 172, Piper PA-28 Cherokee, Cessna 150, and Cessna 152.\n",
    "\n",
    "### Cessna 172\n",
    "![Cessna 172](./images/cessna_172.jpg)\n",
    "\n",
    "### Piper PA-28 Cherokee\n",
    "![Piper_pa28](./images/piper_pa28.jpg)\n",
    "\n",
    "### Cessna 150\n",
    "![Cessna 150](./images/cessna_150.jpg)\n",
    "\n",
    "### Cessna 152\n",
    "![Cessna 152](./images/cessna_152.jpg)\n",
    "\n",
    "**The Task:**\n",
    "1. Which of these makes and models is the safest to fly?\n",
    "2. What time of year provides for the safest flying conditions?\n",
    "3. Where should we open our first location?\n"
   ]
  },
  {
   "cell_type": "markdown",
   "metadata": {},
   "source": [
    "## Data Understanding\n",
    "\n",
    "![img2]()\n",
    "\n",
    "In this analysis, aviation accident data was taken from the [National Transportation Safety Board](https://www.kaggle.com/datasets/khsamaha/aviation-accident-database-synopses/data?select=AviationData.csv) and was sourced from Kaggle. This aviation accident database, encompassing data from 1962 onwards, provides comprehensive information on civil aviation accidents and selected incidents within the United States, its territories, possessions, and international waters. The dataset includes details about the number of injuries and survivors resulting from each incident, along with information about the make and model of the involved aircraft.\n"
   ]
  },
  {
   "cell_type": "code",
   "execution_count": 1,
   "metadata": {},
   "outputs": [],
   "source": [
    "# Import libraries\n",
    "import pandas as pd\n",
    "import numpy as np\n",
    "import seaborn as sns\n",
    "import matplotlib.pyplot as plt\n",
    "from matplotlib.ticker import PercentFormatter\n",
    "import warnings\n",
    "warnings.filterwarnings('ignore')\n",
    "%matplotlib inline"
   ]
  },
  {
   "cell_type": "code",
   "execution_count": 2,
   "metadata": {},
   "outputs": [],
   "source": [
    "# Load in data\n",
    "df=pd.read_csv('Data/AviationData.csv', encoding='latin-1', low_memory=False)"
   ]
  },
  {
   "cell_type": "code",
   "execution_count": 3,
   "metadata": {},
   "outputs": [
    {
     "name": "stdout",
     "output_type": "stream",
     "text": [
      "<class 'pandas.core.frame.DataFrame'>\n",
      "RangeIndex: 88889 entries, 0 to 88888\n",
      "Data columns (total 31 columns):\n",
      " #   Column                  Non-Null Count  Dtype  \n",
      "---  ------                  --------------  -----  \n",
      " 0   Event.Id                88889 non-null  object \n",
      " 1   Investigation.Type      88889 non-null  object \n",
      " 2   Accident.Number         88889 non-null  object \n",
      " 3   Event.Date              88889 non-null  object \n",
      " 4   Location                88837 non-null  object \n",
      " 5   Country                 88663 non-null  object \n",
      " 6   Latitude                34382 non-null  object \n",
      " 7   Longitude               34373 non-null  object \n",
      " 8   Airport.Code            50249 non-null  object \n",
      " 9   Airport.Name            52790 non-null  object \n",
      " 10  Injury.Severity         87889 non-null  object \n",
      " 11  Aircraft.damage         85695 non-null  object \n",
      " 12  Aircraft.Category       32287 non-null  object \n",
      " 13  Registration.Number     87572 non-null  object \n",
      " 14  Make                    88826 non-null  object \n",
      " 15  Model                   88797 non-null  object \n",
      " 16  Amateur.Built           88787 non-null  object \n",
      " 17  Number.of.Engines       82805 non-null  float64\n",
      " 18  Engine.Type             81812 non-null  object \n",
      " 19  FAR.Description         32023 non-null  object \n",
      " 20  Schedule                12582 non-null  object \n",
      " 21  Purpose.of.flight       82697 non-null  object \n",
      " 22  Air.carrier             16648 non-null  object \n",
      " 23  Total.Fatal.Injuries    77488 non-null  float64\n",
      " 24  Total.Serious.Injuries  76379 non-null  float64\n",
      " 25  Total.Minor.Injuries    76956 non-null  float64\n",
      " 26  Total.Uninjured         82977 non-null  float64\n",
      " 27  Weather.Condition       84397 non-null  object \n",
      " 28  Broad.phase.of.flight   61724 non-null  object \n",
      " 29  Report.Status           82508 non-null  object \n",
      " 30  Publication.Date        75118 non-null  object \n",
      "dtypes: float64(5), object(26)\n",
      "memory usage: 21.0+ MB\n"
     ]
    }
   ],
   "source": [
    "df.info()"
   ]
  },
  {
   "cell_type": "code",
   "execution_count": 4,
   "metadata": {},
   "outputs": [
    {
     "data": {
      "text/html": [
       "<div>\n",
       "<style scoped>\n",
       "    .dataframe tbody tr th:only-of-type {\n",
       "        vertical-align: middle;\n",
       "    }\n",
       "\n",
       "    .dataframe tbody tr th {\n",
       "        vertical-align: top;\n",
       "    }\n",
       "\n",
       "    .dataframe thead th {\n",
       "        text-align: right;\n",
       "    }\n",
       "</style>\n",
       "<table border=\"1\" class=\"dataframe\">\n",
       "  <thead>\n",
       "    <tr style=\"text-align: right;\">\n",
       "      <th></th>\n",
       "      <th>Number.of.Engines</th>\n",
       "      <th>Total.Fatal.Injuries</th>\n",
       "      <th>Total.Serious.Injuries</th>\n",
       "      <th>Total.Minor.Injuries</th>\n",
       "      <th>Total.Uninjured</th>\n",
       "    </tr>\n",
       "  </thead>\n",
       "  <tbody>\n",
       "    <tr>\n",
       "      <th>count</th>\n",
       "      <td>82805.000000</td>\n",
       "      <td>77488.000000</td>\n",
       "      <td>76379.000000</td>\n",
       "      <td>76956.000000</td>\n",
       "      <td>82977.000000</td>\n",
       "    </tr>\n",
       "    <tr>\n",
       "      <th>mean</th>\n",
       "      <td>1.146585</td>\n",
       "      <td>0.647855</td>\n",
       "      <td>0.279881</td>\n",
       "      <td>0.357061</td>\n",
       "      <td>5.325440</td>\n",
       "    </tr>\n",
       "    <tr>\n",
       "      <th>std</th>\n",
       "      <td>0.446510</td>\n",
       "      <td>5.485960</td>\n",
       "      <td>1.544084</td>\n",
       "      <td>2.235625</td>\n",
       "      <td>27.913634</td>\n",
       "    </tr>\n",
       "    <tr>\n",
       "      <th>min</th>\n",
       "      <td>0.000000</td>\n",
       "      <td>0.000000</td>\n",
       "      <td>0.000000</td>\n",
       "      <td>0.000000</td>\n",
       "      <td>0.000000</td>\n",
       "    </tr>\n",
       "    <tr>\n",
       "      <th>25%</th>\n",
       "      <td>1.000000</td>\n",
       "      <td>0.000000</td>\n",
       "      <td>0.000000</td>\n",
       "      <td>0.000000</td>\n",
       "      <td>0.000000</td>\n",
       "    </tr>\n",
       "    <tr>\n",
       "      <th>50%</th>\n",
       "      <td>1.000000</td>\n",
       "      <td>0.000000</td>\n",
       "      <td>0.000000</td>\n",
       "      <td>0.000000</td>\n",
       "      <td>1.000000</td>\n",
       "    </tr>\n",
       "    <tr>\n",
       "      <th>75%</th>\n",
       "      <td>1.000000</td>\n",
       "      <td>0.000000</td>\n",
       "      <td>0.000000</td>\n",
       "      <td>0.000000</td>\n",
       "      <td>2.000000</td>\n",
       "    </tr>\n",
       "    <tr>\n",
       "      <th>max</th>\n",
       "      <td>8.000000</td>\n",
       "      <td>349.000000</td>\n",
       "      <td>161.000000</td>\n",
       "      <td>380.000000</td>\n",
       "      <td>699.000000</td>\n",
       "    </tr>\n",
       "  </tbody>\n",
       "</table>\n",
       "</div>"
      ],
      "text/plain": [
       "       Number.of.Engines  Total.Fatal.Injuries  Total.Serious.Injuries  \\\n",
       "count       82805.000000          77488.000000            76379.000000   \n",
       "mean            1.146585              0.647855                0.279881   \n",
       "std             0.446510              5.485960                1.544084   \n",
       "min             0.000000              0.000000                0.000000   \n",
       "25%             1.000000              0.000000                0.000000   \n",
       "50%             1.000000              0.000000                0.000000   \n",
       "75%             1.000000              0.000000                0.000000   \n",
       "max             8.000000            349.000000              161.000000   \n",
       "\n",
       "       Total.Minor.Injuries  Total.Uninjured  \n",
       "count          76956.000000     82977.000000  \n",
       "mean               0.357061         5.325440  \n",
       "std                2.235625        27.913634  \n",
       "min                0.000000         0.000000  \n",
       "25%                0.000000         0.000000  \n",
       "50%                0.000000         1.000000  \n",
       "75%                0.000000         2.000000  \n",
       "max              380.000000       699.000000  "
      ]
     },
     "execution_count": 4,
     "metadata": {},
     "output_type": "execute_result"
    }
   ],
   "source": [
    "df.describe()"
   ]
  },
  {
   "cell_type": "code",
   "execution_count": 5,
   "metadata": {},
   "outputs": [
    {
     "data": {
      "text/html": [
       "<div>\n",
       "<style scoped>\n",
       "    .dataframe tbody tr th:only-of-type {\n",
       "        vertical-align: middle;\n",
       "    }\n",
       "\n",
       "    .dataframe tbody tr th {\n",
       "        vertical-align: top;\n",
       "    }\n",
       "\n",
       "    .dataframe thead th {\n",
       "        text-align: right;\n",
       "    }\n",
       "</style>\n",
       "<table border=\"1\" class=\"dataframe\">\n",
       "  <thead>\n",
       "    <tr style=\"text-align: right;\">\n",
       "      <th></th>\n",
       "      <th>Event.Id</th>\n",
       "      <th>Investigation.Type</th>\n",
       "      <th>Accident.Number</th>\n",
       "      <th>Event.Date</th>\n",
       "      <th>Location</th>\n",
       "      <th>Country</th>\n",
       "      <th>Latitude</th>\n",
       "      <th>Longitude</th>\n",
       "      <th>Airport.Code</th>\n",
       "      <th>Airport.Name</th>\n",
       "      <th>...</th>\n",
       "      <th>Purpose.of.flight</th>\n",
       "      <th>Air.carrier</th>\n",
       "      <th>Total.Fatal.Injuries</th>\n",
       "      <th>Total.Serious.Injuries</th>\n",
       "      <th>Total.Minor.Injuries</th>\n",
       "      <th>Total.Uninjured</th>\n",
       "      <th>Weather.Condition</th>\n",
       "      <th>Broad.phase.of.flight</th>\n",
       "      <th>Report.Status</th>\n",
       "      <th>Publication.Date</th>\n",
       "    </tr>\n",
       "  </thead>\n",
       "  <tbody>\n",
       "    <tr>\n",
       "      <th>0</th>\n",
       "      <td>20001218X45444</td>\n",
       "      <td>Accident</td>\n",
       "      <td>SEA87LA080</td>\n",
       "      <td>1948-10-24</td>\n",
       "      <td>MOOSE CREEK, ID</td>\n",
       "      <td>United States</td>\n",
       "      <td>NaN</td>\n",
       "      <td>NaN</td>\n",
       "      <td>NaN</td>\n",
       "      <td>NaN</td>\n",
       "      <td>...</td>\n",
       "      <td>Personal</td>\n",
       "      <td>NaN</td>\n",
       "      <td>2.0</td>\n",
       "      <td>0.0</td>\n",
       "      <td>0.0</td>\n",
       "      <td>0.0</td>\n",
       "      <td>UNK</td>\n",
       "      <td>Cruise</td>\n",
       "      <td>Probable Cause</td>\n",
       "      <td>NaN</td>\n",
       "    </tr>\n",
       "    <tr>\n",
       "      <th>1</th>\n",
       "      <td>20001218X45447</td>\n",
       "      <td>Accident</td>\n",
       "      <td>LAX94LA336</td>\n",
       "      <td>1962-07-19</td>\n",
       "      <td>BRIDGEPORT, CA</td>\n",
       "      <td>United States</td>\n",
       "      <td>NaN</td>\n",
       "      <td>NaN</td>\n",
       "      <td>NaN</td>\n",
       "      <td>NaN</td>\n",
       "      <td>...</td>\n",
       "      <td>Personal</td>\n",
       "      <td>NaN</td>\n",
       "      <td>4.0</td>\n",
       "      <td>0.0</td>\n",
       "      <td>0.0</td>\n",
       "      <td>0.0</td>\n",
       "      <td>UNK</td>\n",
       "      <td>Unknown</td>\n",
       "      <td>Probable Cause</td>\n",
       "      <td>19-09-1996</td>\n",
       "    </tr>\n",
       "    <tr>\n",
       "      <th>2</th>\n",
       "      <td>20061025X01555</td>\n",
       "      <td>Accident</td>\n",
       "      <td>NYC07LA005</td>\n",
       "      <td>1974-08-30</td>\n",
       "      <td>Saltville, VA</td>\n",
       "      <td>United States</td>\n",
       "      <td>36.922223</td>\n",
       "      <td>-81.878056</td>\n",
       "      <td>NaN</td>\n",
       "      <td>NaN</td>\n",
       "      <td>...</td>\n",
       "      <td>Personal</td>\n",
       "      <td>NaN</td>\n",
       "      <td>3.0</td>\n",
       "      <td>NaN</td>\n",
       "      <td>NaN</td>\n",
       "      <td>NaN</td>\n",
       "      <td>IMC</td>\n",
       "      <td>Cruise</td>\n",
       "      <td>Probable Cause</td>\n",
       "      <td>26-02-2007</td>\n",
       "    </tr>\n",
       "    <tr>\n",
       "      <th>3</th>\n",
       "      <td>20001218X45448</td>\n",
       "      <td>Accident</td>\n",
       "      <td>LAX96LA321</td>\n",
       "      <td>1977-06-19</td>\n",
       "      <td>EUREKA, CA</td>\n",
       "      <td>United States</td>\n",
       "      <td>NaN</td>\n",
       "      <td>NaN</td>\n",
       "      <td>NaN</td>\n",
       "      <td>NaN</td>\n",
       "      <td>...</td>\n",
       "      <td>Personal</td>\n",
       "      <td>NaN</td>\n",
       "      <td>2.0</td>\n",
       "      <td>0.0</td>\n",
       "      <td>0.0</td>\n",
       "      <td>0.0</td>\n",
       "      <td>IMC</td>\n",
       "      <td>Cruise</td>\n",
       "      <td>Probable Cause</td>\n",
       "      <td>12-09-2000</td>\n",
       "    </tr>\n",
       "    <tr>\n",
       "      <th>4</th>\n",
       "      <td>20041105X01764</td>\n",
       "      <td>Accident</td>\n",
       "      <td>CHI79FA064</td>\n",
       "      <td>1979-08-02</td>\n",
       "      <td>Canton, OH</td>\n",
       "      <td>United States</td>\n",
       "      <td>NaN</td>\n",
       "      <td>NaN</td>\n",
       "      <td>NaN</td>\n",
       "      <td>NaN</td>\n",
       "      <td>...</td>\n",
       "      <td>Personal</td>\n",
       "      <td>NaN</td>\n",
       "      <td>1.0</td>\n",
       "      <td>2.0</td>\n",
       "      <td>NaN</td>\n",
       "      <td>0.0</td>\n",
       "      <td>VMC</td>\n",
       "      <td>Approach</td>\n",
       "      <td>Probable Cause</td>\n",
       "      <td>16-04-1980</td>\n",
       "    </tr>\n",
       "  </tbody>\n",
       "</table>\n",
       "<p>5 rows × 31 columns</p>\n",
       "</div>"
      ],
      "text/plain": [
       "         Event.Id Investigation.Type Accident.Number  Event.Date  \\\n",
       "0  20001218X45444           Accident      SEA87LA080  1948-10-24   \n",
       "1  20001218X45447           Accident      LAX94LA336  1962-07-19   \n",
       "2  20061025X01555           Accident      NYC07LA005  1974-08-30   \n",
       "3  20001218X45448           Accident      LAX96LA321  1977-06-19   \n",
       "4  20041105X01764           Accident      CHI79FA064  1979-08-02   \n",
       "\n",
       "          Location        Country   Latitude   Longitude Airport.Code  \\\n",
       "0  MOOSE CREEK, ID  United States        NaN         NaN          NaN   \n",
       "1   BRIDGEPORT, CA  United States        NaN         NaN          NaN   \n",
       "2    Saltville, VA  United States  36.922223  -81.878056          NaN   \n",
       "3       EUREKA, CA  United States        NaN         NaN          NaN   \n",
       "4       Canton, OH  United States        NaN         NaN          NaN   \n",
       "\n",
       "  Airport.Name  ... Purpose.of.flight Air.carrier Total.Fatal.Injuries  \\\n",
       "0          NaN  ...          Personal         NaN                  2.0   \n",
       "1          NaN  ...          Personal         NaN                  4.0   \n",
       "2          NaN  ...          Personal         NaN                  3.0   \n",
       "3          NaN  ...          Personal         NaN                  2.0   \n",
       "4          NaN  ...          Personal         NaN                  1.0   \n",
       "\n",
       "  Total.Serious.Injuries Total.Minor.Injuries Total.Uninjured  \\\n",
       "0                    0.0                  0.0             0.0   \n",
       "1                    0.0                  0.0             0.0   \n",
       "2                    NaN                  NaN             NaN   \n",
       "3                    0.0                  0.0             0.0   \n",
       "4                    2.0                  NaN             0.0   \n",
       "\n",
       "  Weather.Condition  Broad.phase.of.flight   Report.Status Publication.Date  \n",
       "0               UNK                 Cruise  Probable Cause              NaN  \n",
       "1               UNK                Unknown  Probable Cause       19-09-1996  \n",
       "2               IMC                 Cruise  Probable Cause       26-02-2007  \n",
       "3               IMC                 Cruise  Probable Cause       12-09-2000  \n",
       "4               VMC               Approach  Probable Cause       16-04-1980  \n",
       "\n",
       "[5 rows x 31 columns]"
      ]
     },
     "execution_count": 5,
     "metadata": {},
     "output_type": "execute_result"
    }
   ],
   "source": [
    "df.head()"
   ]
  },
  {
   "cell_type": "code",
   "execution_count": 6,
   "metadata": {},
   "outputs": [
    {
     "data": {
      "text/plain": [
       "count                   88889\n",
       "unique                  14782\n",
       "top       1982-05-16 00:00:00\n",
       "freq                       25\n",
       "first     1948-10-24 00:00:00\n",
       "last      2022-12-29 00:00:00\n",
       "Name: Event.Date, dtype: object"
      ]
     },
     "execution_count": 6,
     "metadata": {},
     "output_type": "execute_result"
    }
   ],
   "source": [
    "#Here we are turning the Event.Date column into a easier to work with datetime object.\n",
    "df['Event.Date'] = pd.to_datetime(df['Event.Date'])\n",
    "df['Event.Date'].describe()"
   ]
  },
  {
   "cell_type": "code",
   "execution_count": 7,
   "metadata": {},
   "outputs": [
    {
     "data": {
      "text/plain": [
       "ANCHORAGE, AK      434\n",
       "MIAMI, FL          200\n",
       "ALBUQUERQUE, NM    196\n",
       "HOUSTON, TX        193\n",
       "CHICAGO, IL        184\n",
       "                  ... \n",
       "NEODESHA, KS         1\n",
       "GREENTOWN, PA        1\n",
       "AUSTWELL, TX         1\n",
       "WEST DELTA 105B      1\n",
       "Bethany, MO          1\n",
       "Name: Location, Length: 27758, dtype: int64"
      ]
     },
     "execution_count": 7,
     "metadata": {},
     "output_type": "execute_result"
    }
   ],
   "source": [
    "df['Location'].value_counts()"
   ]
  },
  {
   "cell_type": "code",
   "execution_count": 8,
   "metadata": {},
   "outputs": [
    {
     "data": {
      "text/plain": [
       "United States       82248\n",
       "Brazil                374\n",
       "Canada                359\n",
       "Mexico                358\n",
       "United Kingdom        344\n",
       "                    ...  \n",
       "Anguilla                1\n",
       "San Juan Islands        1\n",
       "Yemen                   1\n",
       "Belarus                 1\n",
       "Libya                   1\n",
       "Name: Country, Length: 219, dtype: int64"
      ]
     },
     "execution_count": 8,
     "metadata": {},
     "output_type": "execute_result"
    }
   ],
   "source": [
    "df['Country'].value_counts()"
   ]
  },
  {
   "cell_type": "code",
   "execution_count": 9,
   "metadata": {},
   "outputs": [
    {
     "data": {
      "text/plain": [
       "Airplane             27617\n",
       "Helicopter            3440\n",
       "Glider                 508\n",
       "Balloon                231\n",
       "Gyrocraft              173\n",
       "Weight-Shift           161\n",
       "Powered Parachute       91\n",
       "Ultralight              30\n",
       "Unknown                 14\n",
       "WSFT                     9\n",
       "Powered-Lift             5\n",
       "Blimp                    4\n",
       "UNK                      2\n",
       "ULTR                     1\n",
       "Rocket                   1\n",
       "Name: Aircraft.Category, dtype: int64"
      ]
     },
     "execution_count": 9,
     "metadata": {},
     "output_type": "execute_result"
    }
   ],
   "source": [
    "df['Aircraft.Category'].value_counts()"
   ]
  },
  {
   "cell_type": "code",
   "execution_count": 10,
   "metadata": {},
   "outputs": [
    {
     "data": {
      "text/plain": [
       "Cessna                     22227\n",
       "Piper                      12029\n",
       "CESSNA                      4922\n",
       "Beech                       4330\n",
       "PIPER                       2841\n",
       "                           ...  \n",
       "BALONY KUBICEK SPOL SRO        1\n",
       "Collins                        1\n",
       "Gothard                        1\n",
       "MORRISON ROCKY V               1\n",
       "BOAM                           1\n",
       "Name: Make, Length: 8237, dtype: int64"
      ]
     },
     "execution_count": 10,
     "metadata": {},
     "output_type": "execute_result"
    }
   ],
   "source": [
    "df['Make'].value_counts()"
   ]
  },
  {
   "cell_type": "code",
   "execution_count": 11,
   "metadata": {},
   "outputs": [
    {
     "data": {
      "text/plain": [
       "152               2367\n",
       "172               1756\n",
       "172N              1164\n",
       "PA-28-140          932\n",
       "150                829\n",
       "                  ... \n",
       "GS-2F                1\n",
       "11AC-991             1\n",
       "767-338              1\n",
       "222A                 1\n",
       "AERO SPEC 2150       1\n",
       "Name: Model, Length: 12318, dtype: int64"
      ]
     },
     "execution_count": 11,
     "metadata": {},
     "output_type": "execute_result"
    }
   ],
   "source": [
    "df['Model'].value_counts()"
   ]
  },
  {
   "cell_type": "code",
   "execution_count": 12,
   "metadata": {},
   "outputs": [
    {
     "data": {
      "text/plain": [
       "Non-Fatal     67357\n",
       "Fatal(1)       6167\n",
       "Fatal          5262\n",
       "Fatal(2)       3711\n",
       "Incident       2219\n",
       "              ...  \n",
       "Fatal(125)        1\n",
       "Fatal(117)        1\n",
       "Fatal(132)        1\n",
       "Fatal(217)        1\n",
       "Fatal(206)        1\n",
       "Name: Injury.Severity, Length: 109, dtype: int64"
      ]
     },
     "execution_count": 12,
     "metadata": {},
     "output_type": "execute_result"
    }
   ],
   "source": [
    "df['Injury.Severity'].value_counts()"
   ]
  },
  {
   "cell_type": "markdown",
   "metadata": {},
   "source": [
    "## Data Preparation"
   ]
  },
  {
   "cell_type": "markdown",
   "metadata": {},
   "source": [
    "### Data Cleaning\n",
    "\n",
    "For the aviation accident dataset, we are making it easier to work with by investigation and cleaning up certain columns and dropping unnecessary columns."
   ]
  },
  {
   "cell_type": "markdown",
   "metadata": {},
   "source": [
    "First we want to identify locations that are only applicable to where we would operate, The continental United States."
   ]
  },
  {
   "cell_type": "code",
   "execution_count": 13,
   "metadata": {},
   "outputs": [],
   "source": [
    "#First lets drop rows we don't have have information on the location:\n",
    "#The location includes infomation about where in the Country the accident occured.\n",
    "df.dropna(subset=['Location', 'Country'], inplace=True)\n",
    "\n",
    "# Now we only want to view locations that are apart of the continental United States.\n",
    "df = df[df['Country'].str.lower() == 'united states']"
   ]
  },
  {
   "cell_type": "markdown",
   "metadata": {},
   "source": [
    "Now lets drop rows where we do not have information on the make or model of the aircraft. We want to identify which plane is the best investment and can't do so if this info is missing."
   ]
  },
  {
   "cell_type": "code",
   "execution_count": 14,
   "metadata": {},
   "outputs": [],
   "source": [
    "#Dropping rows if the make or model is missing.\n",
    "df.dropna(subset=['Make', 'Model'], inplace=True)"
   ]
  },
  {
   "cell_type": "markdown",
   "metadata": {},
   "source": [
    "Given this dataset includes a lot of unnessecary columns, ee will drop columns that we will not further analysis."
   ]
  },
  {
   "cell_type": "code",
   "execution_count": 15,
   "metadata": {},
   "outputs": [],
   "source": [
    "# Columns to drop\n",
    "drop_columns = ['Event.Id', 'Investigation.Type', 'Accident.Number', 'Latitude', 'Longitude', 'Airport.Code', 'Airport.Name',\n",
    "                'Registration.Number', 'FAR.Description', 'Schedule', 'Air.carrier','Report.Status', 'Publication.Date']\n",
    "# Drop columns in the specified list\n",
    "df = df.drop(columns=drop_columns)"
   ]
  },
  {
   "cell_type": "markdown",
   "metadata": {},
   "source": [
    "Now we will extract the year and the month values from the Event.Date column. This will allow us to determine what time of the year is safest to fly."
   ]
  },
  {
   "cell_type": "code",
   "execution_count": 16,
   "metadata": {},
   "outputs": [],
   "source": [
    "# Extracting year and month from Event.Date\n",
    "df['year'] = df['Event.Date'].dt.year\n",
    "df['month'] = df['Event.Date'].dt.month_name()"
   ]
  },
  {
   "cell_type": "markdown",
   "metadata": {},
   "source": [
    "Next lets make the Make and Model values more consistent to account for any differences in spelling. For example, in the Make column, Cessna sometimes appears in all uppercase letters (CESSNA)."
   ]
  },
  {
   "cell_type": "code",
   "execution_count": 17,
   "metadata": {},
   "outputs": [],
   "source": [
    "# Here we are making the 'Make' column consistent\n",
    "df['Make']=df['Make'].str.lower()"
   ]
  },
  {
   "cell_type": "code",
   "execution_count": 18,
   "metadata": {},
   "outputs": [],
   "source": [
    "# Here we are making the 'Model' column consistent by removing spaces, -, and _.\n",
    "# Function to process a single value\n",
    "def process_category(value):\n",
    "    # Convert to lowercase, remove spaces, dashes, and underscores, and combine all words\n",
    "    return ''.join(value.lower().replace(' ', '').replace('-', '').replace('_', ''))\n",
    "\n",
    "df['Model'] = df['Model'].apply(process_category)"
   ]
  },
  {
   "cell_type": "markdown",
   "metadata": {},
   "source": [
    "Now we create a new column where make and model are combined. This will be helpful in the next line of code."
   ]
  },
  {
   "cell_type": "code",
   "execution_count": 19,
   "metadata": {},
   "outputs": [
    {
     "data": {
      "text/plain": [
       "cessna 152                   2322\n",
       "cessna 172                   1634\n",
       "cessna 172n                  1144\n",
       "piper pa28140                 978\n",
       "cessna 172m                   802\n",
       "                             ... \n",
       "keith vansrv6a                  1\n",
       "airbus industrie a319100        1\n",
       "continental copters mark5       1\n",
       "rans, inc. s6                   1\n",
       "kragnes acrosportii             1\n",
       "Name: Make/Model, Length: 14886, dtype: int64"
      ]
     },
     "execution_count": 19,
     "metadata": {},
     "output_type": "execute_result"
    }
   ],
   "source": [
    "# Here we are creating a new column that combines Make and Model\n",
    "df['Make/Model'] = df['Make']+\" \"+df['Model']\n",
    "df['Make/Model'].value_counts()"
   ]
  },
  {
   "cell_type": "markdown",
   "metadata": {},
   "source": [
    "Originally, in code block 9, there were only 27617 rows that were classified as Airplane. Here we will use the Make/Model column to see if we can identify any other aircraft that share the same make and model. As a result, we were able to identify ~40,000 new airplanes in the dataset."
   ]
  },
  {
   "cell_type": "code",
   "execution_count": 20,
   "metadata": {},
   "outputs": [
    {
     "data": {
      "text/plain": [
       "Airplane             64012\n",
       "Helicopter            6487\n",
       "Glider                1024\n",
       "Balloon                433\n",
       "Gyrocraft              217\n",
       "Weight-Shift           162\n",
       "Powered Parachute       91\n",
       "Ultralight              32\n",
       "Unknown                 15\n",
       "WSFT                    11\n",
       "Powered-Lift             7\n",
       "Blimp                    5\n",
       "ULTR                     1\n",
       "Rocket                   1\n",
       "Name: Aircraft.Category, dtype: int64"
      ]
     },
     "execution_count": 20,
     "metadata": {},
     "output_type": "execute_result"
    }
   ],
   "source": [
    "#Here we are seeing if the make/model for a specific aircraft category matches another row where aircraft category is null.\n",
    "'''\n",
    "1. df['Aircraft.Category'].isna(): \n",
    "This part creates a boolean mask where it checks if the values in the 'Aircraft.Category' column are NaN. \n",
    "It returns True for NaN values and False otherwise.\n",
    "\n",
    "2. df['Make/Model'].isin(df[df['Aircraft.Category'] == 'Airplane']['Make/Model']): \n",
    "This part creates another boolean mask. It checks if the values in the 'Make/Model' \n",
    "column are present in the 'Make/Model' column of rows where 'Aircraft.Category' is equal to 'Airplane'. \n",
    "It returns True for rows where the 'Make/Model' is in the list of 'Make/Model' values for 'Airplane'.\n",
    "\n",
    "3. mask = df['Aircraft.Category'].isna() & ...: \n",
    "This line combines the two boolean masks using the bitwise AND (&) operator. \n",
    "The resulting mask will be True for rows where 'Aircraft.Category' is NaN and the corresponding 'Make/Model' \n",
    "is in the list of 'Make/Model' values for 'Airplane'.\n",
    "'''\n",
    "Airplane_mask = df['Aircraft.Category'].isna() & df['Make/Model'].isin(df[df['Aircraft.Category'] == 'Airplane']['Make/Model'])\n",
    "Helicopter_mask = df['Aircraft.Category'].isna() & df['Make/Model'].isin(df[df['Aircraft.Category'] == 'Helicopter']['Make/Model'])\n",
    "Glider_mask = df['Aircraft.Category'].isna() & df['Make/Model'].isin(df[df['Aircraft.Category'] == 'Glider']['Make/Model'])\n",
    "Balloon_mask = df['Aircraft.Category'].isna() & df['Make/Model'].isin(df[df['Aircraft.Category'] == 'Balloon']['Make/Model'])\n",
    "Gyrocraft_mask = df['Aircraft.Category'].isna() & df['Make/Model'].isin(df[df['Aircraft.Category'] == 'Gyrocraft']['Make/Model'])\n",
    "WeightShift_mask = df['Aircraft.Category'].isna() & df['Make/Model'].isin(df[df['Aircraft.Category'] == 'Weight-Shift']['Make/Model'])\n",
    "PoweredParachute_mask = df['Aircraft.Category'].isna() & df['Make/Model'].isin(df[df['Aircraft.Category'] == 'Powered Parachute']['Make/Model'])\n",
    "Ultralight_mask = df['Aircraft.Category'].isna() & df['Make/Model'].isin(df[df['Aircraft.Category'] == 'Ultralight']['Make/Model'])\n",
    "Unknown_mask = df['Aircraft.Category'].isna() & df['Make/Model'].isin(df[df['Aircraft.Category'] == 'Unknown']['Make/Model'])\n",
    "WSFT_mask = df['Aircraft.Category'].isna() & df['Make/Model'].isin(df[df['Aircraft.Category'] == 'WSFT']['Make/Model'])\n",
    "PoweredLift_mask = df['Aircraft.Category'].isna() & df['Make/Model'].isin(df[df['Aircraft.Category'] == 'Powered-Lift']['Make/Model'])\n",
    "Blimp_mask = df['Aircraft.Category'].isna() & df['Make/Model'].isin(df[df['Aircraft.Category'] == 'Blimp']['Make/Model'])\n",
    "UNK_mask = df['Aircraft.Category'].isna() & df['Make/Model'].isin(df[df['Aircraft.Category'] == 'UNK']['Make/Model'])\n",
    "ULTR_mask = df['Aircraft.Category'].isna() & df['Make/Model'].isin(df[df['Aircraft.Category'] == 'ULTR']['Make/Model'])\n",
    "Rocket_mask = df['Aircraft.Category'].isna() & df['Make/Model'].isin(df[df['Aircraft.Category'] == 'Rocket']['Make/Model'])\n",
    "\n",
    "#Here we are applying the condition above, and reclassfying the Aircraft category if there was a match.\n",
    "df.loc[Airplane_mask, 'Aircraft.Category'] = 'Airplane'\n",
    "df.loc[Helicopter_mask, 'Aircraft.Category'] = 'Helicopter'\n",
    "df.loc[Glider_mask, 'Aircraft.Category'] = 'Glider'\n",
    "df.loc[Balloon_mask, 'Aircraft.Category'] = 'Balloon'\n",
    "df.loc[Gyrocraft_mask, 'Aircraft.Category'] = 'Gyrocraft'\n",
    "df.loc[WeightShift_mask, 'Aircraft.Category'] = 'Weight-Shift'\n",
    "df.loc[PoweredParachute_mask, 'Aircraft.Category'] = 'Powered Parachute'\n",
    "df.loc[Ultralight_mask, 'Aircraft.Category'] = 'Ultralight'\n",
    "df.loc[Unknown_mask, 'Aircraft.Category'] = 'Unknown'\n",
    "df.loc[WSFT_mask, 'Aircraft.Category'] = 'WSFT'\n",
    "df.loc[PoweredLift_mask, 'Aircraft.Category'] = 'Powered-Lift'\n",
    "df.loc[Blimp_mask, 'Aircraft.Category'] = 'Blimp'\n",
    "df.loc[UNK_mask, 'Aircraft.Category'] = 'UNK'\n",
    "df.loc[ULTR_mask, 'Aircraft.Category'] = 'ULTR'\n",
    "df.loc[Rocket_mask, 'Aircraft.Category'] = 'Rocket'\n",
    "\n",
    "# New value count of Airplanes, we were able to classify ~40k new airplanes, that were previously NA\n",
    "df['Aircraft.Category'].value_counts()"
   ]
  },
  {
   "cell_type": "code",
   "execution_count": 21,
   "metadata": {},
   "outputs": [
    {
     "data": {
      "text/plain": [
       "mitsubishi mu300        8\n",
       "quad city challenger    3\n",
       "rans s7                 3\n",
       "varieze ruatan          1\n",
       "Name: Make/Model, dtype: int64"
      ]
     },
     "execution_count": 21,
     "metadata": {},
     "output_type": "execute_result"
    }
   ],
   "source": [
    "#Investigating the unknown aircraft category by make and model, to find any aircrafts.\n",
    "unknown_aircraft_df = df[df['Aircraft.Category']=='Unknown']\n",
    "unknown_aircraft_df['Make/Model'].value_counts()"
   ]
  },
  {
   "cell_type": "markdown",
   "metadata": {},
   "source": [
    "Since none of these aircraft are the Cessna 150/152/172 or Piper Pa-28 models. We can ignore this category and drop these values when the time comes.\n",
    "\n",
    "Now we will investigate the remaining null values. Just to be safe, if Cessna or Piper show up in this category, we will reclassify their category type as airplane. Later on we will see how we can potentially capture more of these models of interest."
   ]
  },
  {
   "cell_type": "code",
   "execution_count": 22,
   "metadata": {},
   "outputs": [
    {
     "data": {
      "text/plain": [
       "boeing                           440\n",
       "beech                            317\n",
       "cessna                           317\n",
       "piper                            255\n",
       "mcdonnell douglas                142\n",
       "                                ... \n",
       "striplin aircraft corporation      1\n",
       "wormley                            1\n",
       "ontario avia. hist. soc.           1\n",
       "browns                             1\n",
       "murrin frederick l                 1\n",
       "Name: Make, Length: 3942, dtype: int64"
      ]
     },
     "execution_count": 22,
     "metadata": {},
     "output_type": "execute_result"
    }
   ],
   "source": [
    "None_aircraft_df = df[df['Aircraft.Category'].isna()]\n",
    "None_aircraft_df['Make'].value_counts()"
   ]
  },
  {
   "cell_type": "code",
   "execution_count": 23,
   "metadata": {},
   "outputs": [],
   "source": [
    "#Here we are assigning the variable 'airplane' to well known airplane manufactures that dont have a aircraft classification.\n",
    "df.loc[(df['Aircraft.Category'].isna()) & (df['Make'] == 'cessna'), 'Aircraft.Category'] = 'Airplane'\n",
    "df.loc[(df['Aircraft.Category'].isna()) & (df['Make'] == 'piper'), 'Aircraft.Category'] = 'Airplane'"
   ]
  },
  {
   "cell_type": "markdown",
   "metadata": {},
   "source": [
    "Now we can drop all rows where the Aircraft category is not equal to Airplane."
   ]
  },
  {
   "cell_type": "code",
   "execution_count": 24,
   "metadata": {},
   "outputs": [],
   "source": [
    "#Dropping unneeded rows. \n",
    "airplane_df = df[df['Aircraft.Category'] == 'Airplane']"
   ]
  },
  {
   "cell_type": "markdown",
   "metadata": {},
   "source": [
    "Now we are investigating the injurity serverity. As a flight school, our students saftey is our top priority and we want to make sure our students are in the safest plane on the market. In order to determine wether a plane is safe or not, we need to examine the survival rate, by analyzing the four injury columns (Total.Fatal.Injuries, Total.Serious.Injuries, Total.Minor.Injuries, and Total.Uninjured).\n",
    "\n",
    "We will first check for instance where the injury severity value is NA. As shown below, since the sum of the four injury categories is equal to zero, this means that we have no information as to how many passangers are onboard. We will therefore remove these rows."
   ]
  },
  {
   "cell_type": "code",
   "execution_count": 25,
   "metadata": {},
   "outputs": [
    {
     "name": "stdout",
     "output_type": "stream",
     "text": [
      "True\n",
      "True\n",
      "True\n",
      "True\n"
     ]
    }
   ],
   "source": [
    "#Now we are investigating the NaN injurity serverity columns.\n",
    "filtered_df = airplane_df[airplane_df['Injury.Severity'].isnull()]\n",
    "\n",
    "# Here I am checking to make sure there are no injuries recorded in these rows.\n",
    "print(filtered_df['Total.Fatal.Injuries'].sum() == 0)\n",
    "print(filtered_df['Total.Serious.Injuries'].sum() == 0)\n",
    "print(filtered_df['Total.Minor.Injuries'].sum() == 0)\n",
    "print(filtered_df['Total.Uninjured'].sum() == 0)\n",
    "\n",
    "#Drop rows where the Injury Severity is NA, since we have no accounts of anybody being onboard.\n",
    "airplane_df =airplane_df.dropna(subset=['Injury.Severity'])"
   ]
  },
  {
   "cell_type": "markdown",
   "metadata": {},
   "source": [
    "Now, we will do the same thing, but drop rows where all four injury types are filled with a null value."
   ]
  },
  {
   "cell_type": "code",
   "execution_count": 26,
   "metadata": {},
   "outputs": [],
   "source": [
    "#I'm dropping rows, where there is no information to how many passangers were on board.  \n",
    "columns_to_check = ['Total.Fatal.Injuries','Total.Serious.Injuries','Total.Minor.Injuries','Total.Uninjured']\n",
    "airplane_df.dropna(subset=columns_to_check, how='all', inplace=True)"
   ]
  },
  {
   "cell_type": "markdown",
   "metadata": {},
   "source": [
    "Now that we are left with rows that contain atleast one value in one of the four injury type columns, we can replace the null values with zero."
   ]
  },
  {
   "cell_type": "code",
   "execution_count": 27,
   "metadata": {},
   "outputs": [],
   "source": [
    "#Now that one of the four 'columns_to_check' has a value in it, We replace those NA values with 0\n",
    "airplane_df[columns_to_check] = airplane_df[columns_to_check].fillna(0)"
   ]
  },
  {
   "cell_type": "markdown",
   "metadata": {},
   "source": [
    "Lastly, lets remove all rows where the columns of interest are all equal to zero as again this is a case where we have no information to how many people were on board."
   ]
  },
  {
   "cell_type": "code",
   "execution_count": 28,
   "metadata": {},
   "outputs": [],
   "source": [
    "zero_values_mask = (airplane_df[columns_to_check] == 0).all(axis=1)\n",
    "\n",
    "# Drop the rows based on the boolean mask\n",
    "airplane_df = airplane_df[~zero_values_mask]\n"
   ]
  },
  {
   "cell_type": "markdown",
   "metadata": {},
   "source": [
    "Now we can investigate the amateur build column. We do not want to include aircrafts that are built by amateurs, so we will exclude all those rows."
   ]
  },
  {
   "cell_type": "code",
   "execution_count": 29,
   "metadata": {},
   "outputs": [],
   "source": [
    "# First I will investigate the NA values in this column, and if the make/model matches another rows make/model, \n",
    "# replace NA value.\n",
    "\n",
    "no_amatuer_mask = airplane_df['Amateur.Built'].isna() & airplane_df['Make/Model'].isin(airplane_df[airplane_df['Amateur.Built'] == 'No']['Make/Model'])\n",
    "yes_amatuer_mask = airplane_df['Amateur.Built'].isna() & airplane_df['Make/Model'].isin(airplane_df[airplane_df['Amateur.Built'] == 'Yes']['Make/Model'])\n",
    "airplane_df.loc[no_amatuer_mask, 'Amateur.Built'] = 'No'\n",
    "airplane_df.loc[yes_amatuer_mask, 'Amateur.Built'] = 'Yes'\n",
    "\n",
    "# Now I'm gonna remove all rows where Amatuer built is = yes or null\n",
    "condition = (airplane_df['Amateur.Built'] == 'Yes') | airplane_df['Amateur.Built'].isnull()\n",
    "airplane_df = airplane_df[~condition]"
   ]
  },
  {
   "cell_type": "code",
   "execution_count": 30,
   "metadata": {},
   "outputs": [
    {
     "data": {
      "text/plain": [
       "No    61015\n",
       "Name: Amateur.Built, dtype: int64"
      ]
     },
     "execution_count": 30,
     "metadata": {},
     "output_type": "execute_result"
    }
   ],
   "source": [
    "#Checking to make sure we have No as the only option.\n",
    "airplane_df['Amateur.Built'].value_counts()"
   ]
  },
  {
   "cell_type": "code",
   "execution_count": 31,
   "metadata": {},
   "outputs": [
    {
     "data": {
      "text/plain": [
       "cessna                            25747\n",
       "piper                             14122\n",
       "beech                              4722\n",
       "mooney                             1243\n",
       "grumman                            1071\n",
       "                                  ...  \n",
       "consolidated  aeronautics inc.        1\n",
       "ray e roberts                         1\n",
       "luy wayman                            1\n",
       "blue side up inc                      1\n",
       "butler aircraft company               1\n",
       "Name: Make, Length: 1008, dtype: int64"
      ]
     },
     "execution_count": 31,
     "metadata": {},
     "output_type": "execute_result"
    }
   ],
   "source": [
    "airplane_df['Make'].value_counts()"
   ]
  },
  {
   "cell_type": "markdown",
   "metadata": {},
   "source": [
    "I want to make sure we caputure all instances of the Cessna and Piper models of interest. The make for cessna could be spelled slightly differently. For example Cessna airplane company or Piper aviaitions, so we want to make sure those are renamed to cessna or piper.\n",
    "\n",
    "I also want to check for other commmon names of the models of interest. The Cessna 172 is also commonly known as the Cessna Skyhawk, so we will want to check for instances where the model name is inlcudes skyhawk.\n",
    "\n",
    "Lastly, I want to create a common model name for the Cessna and Piper models. Like cars there are different versions of a specific aircraft. We will just aggregate these different version together and view the incidents for each model as a whole."
   ]
  },
  {
   "cell_type": "code",
   "execution_count": 32,
   "metadata": {},
   "outputs": [
    {
     "data": {
      "text/plain": [
       "cessna                            25782\n",
       "piper                             14171\n",
       "beech                              4722\n",
       "mooney                             1243\n",
       "grumman                            1071\n",
       "                                  ...  \n",
       "greene r/greene s                     1\n",
       "alaskan air adventures llc            1\n",
       "american champion aircraft cor        1\n",
       "reims                                 1\n",
       "wingtip to wingtip llc                1\n",
       "Name: Make, Length: 988, dtype: int64"
      ]
     },
     "execution_count": 32,
     "metadata": {},
     "output_type": "execute_result"
    }
   ],
   "source": [
    "#Here I am making sure the make values for pipper and cessna is consistent throught the dataframe.\n",
    "airplane_df.loc[airplane_df['Make'].str.contains('piper', case=False, na=False), 'Make'] = 'piper'\n",
    "airplane_df.loc[airplane_df['Make'].str.contains('cessna', case=False, na=False), 'Make'] = 'cessna'\n",
    "airplane_df['Make'].value_counts()"
   ]
  },
  {
   "cell_type": "code",
   "execution_count": 33,
   "metadata": {},
   "outputs": [],
   "source": [
    "# To make sure we capture all the models of interest, the cessna 172 is also commonly known as “The Cessna Skyhawk”. \n",
    "# Below we replace the model name with 172 if Skyhawk occurs in the model number.\n",
    "airplane_df.loc[airplane_df['Model'].str.contains('Skyhawk', case=False, na=False), 'Model'] = '172'"
   ]
  },
  {
   "cell_type": "code",
   "execution_count": 34,
   "metadata": {},
   "outputs": [
    {
     "data": {
      "text/plain": [
       "172      6540\n",
       "pa-28    4701\n",
       "150      3188\n",
       "152      2468\n",
       "Name: model_new, dtype: int64"
      ]
     },
     "execution_count": 34,
     "metadata": {},
     "output_type": "execute_result"
    }
   ],
   "source": [
    "'''\n",
    "Here I am creating a new column to classify all versions of the Pipper pa-28, cessna 152, cessna 150, and cessna 172 \n",
    "so that we can aggregate each model together. We will leave the original model column unchanged to later analysis the\n",
    "differences between different versions, if needed.\n",
    "\n",
    "For example: cessna 150n vs cessna 150m\n",
    "'''\n",
    "make_column = 'Make'\n",
    "model_column = 'Model'\n",
    "new_column = 'model_new'\n",
    "\n",
    "# Create a new column 'model_new' based on conditions\n",
    "airplane_df[new_column] = airplane_df.apply(\n",
    "    lambda row: 'pa-28' if row[make_column] == 'piper' and 'pa28' in row[model_column].lower() else (\n",
    "        '152' if row[make_column] == 'cessna' and '152' in row[model_column] else (\n",
    "            '172' if row[make_column] == 'cessna' and '172' in row[model_column] else (\n",
    "                '150' if row[make_column] == 'cessna' and '150' in row[model_column] else None\n",
    "            )\n",
    "        )\n",
    "    ),\n",
    "    axis=1\n",
    ")\n",
    "\n",
    "airplane_df['model_new'].value_counts()"
   ]
  },
  {
   "cell_type": "code",
   "execution_count": 35,
   "metadata": {},
   "outputs": [],
   "source": [
    "# Now we create a new dataframe where we only examine the models we are interested in purchasing.\n",
    "planes_of_interest = airplane_df.dropna(subset=['model_new'])"
   ]
  },
  {
   "cell_type": "markdown",
   "metadata": {},
   "source": [
    "Next, since our business model consist of a instructional flights and rentals for students to log their solo hours. We will only crash incidents where the flight purpose falls into one of these two buckets. This means removing all rows in the dataframe where the plane is not a dangerous situation. This includes taxing and standing phases, as well as unknown, other, and null values since we are not able to determine the level of danger."
   ]
  },
  {
   "cell_type": "code",
   "execution_count": 36,
   "metadata": {},
   "outputs": [
    {
     "data": {
      "text/plain": [
       "Landing        4044\n",
       "Takeoff        2574\n",
       "Cruise         2458\n",
       "Approach       1351\n",
       "Maneuvering    1176\n",
       "Go-around       511\n",
       "Taxi            476\n",
       "Descent         403\n",
       "Climb           360\n",
       "Standing        204\n",
       "Unknown         109\n",
       "Other            20\n",
       "Name: Broad.phase.of.flight, dtype: int64"
      ]
     },
     "execution_count": 36,
     "metadata": {},
     "output_type": "execute_result"
    }
   ],
   "source": [
    "planes_of_interest['Broad.phase.of.flight'].value_counts()"
   ]
  },
  {
   "cell_type": "code",
   "execution_count": 37,
   "metadata": {},
   "outputs": [
    {
     "data": {
      "text/plain": [
       "Landing        4044\n",
       "Takeoff        2574\n",
       "Cruise         2458\n",
       "Approach       1351\n",
       "Maneuvering    1176\n",
       "Go-around       511\n",
       "Descent         403\n",
       "Climb           360\n",
       "Name: Broad.phase.of.flight, dtype: int64"
      ]
     },
     "execution_count": 37,
     "metadata": {},
     "output_type": "execute_result"
    }
   ],
   "source": [
    "#Here we are removing phases of a flight that are not dangerous in nature.\n",
    "planes_of_interest = planes_of_interest[\n",
    "    ~planes_of_interest['Broad.phase.of.flight'].isin(['Taxi', 'Standing', 'Unknown', 'Other']) &\n",
    "    ~planes_of_interest['Broad.phase.of.flight'].isnull()]\n",
    "\n",
    "planes_of_interest['Broad.phase.of.flight'].value_counts()"
   ]
  },
  {
   "cell_type": "markdown",
   "metadata": {},
   "source": [
    "Lastly, To obtain a private pilot certificate in airplanes, a person must log at least 40 hours of flight time, of which at least 20 hours are flight training from an authorized instructor and 10 hours of solo flight training in the appropriate areas of operation, three hours of cross-country, three hours at night, three hours of instrument time, and other requirements specific to the category and class rating sought.\n",
    "\n",
    "Because our Buisness model consist of two stages, we will only want to examine cases where the purpose of the flight was Personal or Instructional."
   ]
  },
  {
   "cell_type": "code",
   "execution_count": 38,
   "metadata": {},
   "outputs": [],
   "source": [
    "# Note, might need to add this in the initial data cleaning search.\n",
    "# Here we are narrowing down the dataframe to only examin personnal and instructional flights incidents. \n",
    "planes_of_interest = planes_of_interest[planes_of_interest['Purpose.of.flight'].isin(['Personal', 'Instructional'])]"
   ]
  },
  {
   "cell_type": "markdown",
   "metadata": {},
   "source": [
    "## Outlier Detection"
   ]
  },
  {
   "cell_type": "markdown",
   "metadata": {},
   "source": [
    "### Breif History of each model."
   ]
  },
  {
   "cell_type": "markdown",
   "metadata": {},
   "source": [
    "[Cessna 150/152 History](https://cessna150152club.org/cessna-150-history/)\n",
    "The Cessna 150 began production in 1957 and in 1978 Cessna introduced a revised model, the 152, with a 110 horsepower Lycoming 0-235 engine. The Lycoming was chosen to provide a long overdue increase in horsepower and make the 152 more compatible with the new 100LL fuel. The cabin was also widened slightly to make room for the increased girth of late 20th century pilots. Unlike the Model 150, there were few changes in 152s from one year to the next.\n",
    "\n",
    "By the end of production in 1985, 31,533 Cessna 150/152s had been manufactured worldwide. More pilots have flown Cessna 150s and 152s than any other single model of airplane. Like most light plane companies in the US, Cessna stopped building light aircraft all together in the mid 1980’s because of excessive product liability lawsuits. \n",
    "\n",
    "Used 150s and 152s are selling for three to five times their original price. Still, by comparison, the low quantities and astronomical prices of most other airplanes make the Cessna 150 and 152 one of the few genuine bargains in private aviation. Remarkably, 60 years after production began and 35 years since it ended, more than two thirds of all Cessna 150s and 152s built are still flying.\n",
    "\n",
    "[Cessna 172 History](https://flyfa.com/the-most-produced-aircraft-is-cessna-172-17-facts-about-cessna-172/)\n",
    "For the Cessna 172, Cessna delivered the first production model in 1956 and the model is still in production today. A new Cessna 172 runs around $400,000 to purchase. However, with a new aircraft, you'll have the advantage of the latest technology and a full warranty.\n",
    "\n",
    "[Piper PA-28 Cherokee](https://www.wikiwand.com/en/Piper_PA-28_Cherokee)\n",
    "The first PA-28 received its type certificate from the Federal Aviation Administration in 1960 and the series remains in production to this day. Current models are the Warrior, Arrow, and Archer TX and LX, and the Pilot 100 and 100i.\n"
   ]
  },
  {
   "cell_type": "code",
   "execution_count": 39,
   "metadata": {
    "scrolled": false
   },
   "outputs": [
    {
     "data": {
      "image/png": "[encoded data removed]",
      "text/plain": [
       "<Figure size 576x432 with 1 Axes>"
      ]
     },
     "metadata": {
      "needs_background": "light"
     },
     "output_type": "display_data"
    },
    {
     "data": {
      "image/png": "[encoded data removed]",
      "text/plain": [
       "<Figure size 576x432 with 1 Axes>"
      ]
     },
     "metadata": {
      "needs_background": "light"
     },
     "output_type": "display_data"
    },
    {
     "data": {
      "image/png": "[encoded data removed]",
      "text/plain": [
       "<Figure size 576x432 with 1 Axes>"
      ]
     },
     "metadata": {
      "needs_background": "light"
     },
     "output_type": "display_data"
    },
    {
     "data": {
      "image/png": "[encoded data removed]",
      "text/plain": [
       "<Figure size 576x432 with 1 Axes>"
      ]
     },
     "metadata": {
      "needs_background": "light"
     },
     "output_type": "display_data"
    },
    {
     "data": {
      "image/png": "[encoded data removed]",
      "text/plain": [
       "<Figure size 576x432 with 1 Axes>"
      ]
     },
     "metadata": {
      "needs_background": "light"
     },
     "output_type": "display_data"
    },
    {
     "data": {
      "image/png": "[encoded data removed]",
      "text/plain": [
       "<Figure size 576x432 with 1 Axes>"
      ]
     },
     "metadata": {
      "needs_background": "light"
     },
     "output_type": "display_data"
    }
   ],
   "source": [
    "# List of numerical columns to look for outliers.\n",
    "outlier_columns = ['Number.of.Engines', 'Total.Fatal.Injuries', 'Total.Serious.Injuries', 'Total.Minor.Injuries', 'Total.Uninjured', 'year']\n",
    "\n",
    "# Create a box plot for each specified column\n",
    "for column in outlier_columns:\n",
    "    plt.figure(figsize=(8, 6))\n",
    "    sns.boxplot(x=planes_of_interest[column])\n",
    "    plt.title(f'Box Plot for {column}')\n",
    "    plt.show()"
   ]
  },
  {
   "cell_type": "markdown",
   "metadata": {},
   "source": [
    "Given the infomation about production for each model and the years currently in the dataframe, we decided to only examine airplane incidents from 1986 to current. This will account for any of the last Cessna 150/152 models that were produced. "
   ]
  },
  {
   "cell_type": "code",
   "execution_count": 40,
   "metadata": {},
   "outputs": [],
   "source": [
    "#Filtering by year\n",
    "planes_of_interest = planes_of_interest[(planes_of_interest['year'] >= 1986)]\n",
    "\n",
    "#Dropping this outlier in the total fatal injuries column\n",
    "planes_of_interest = planes_of_interest[planes_of_interest['Total.Fatal.Injuries'] <= 70]"
   ]
  },
  {
   "cell_type": "code",
   "execution_count": 41,
   "metadata": {},
   "outputs": [
    {
     "name": "stdout",
     "output_type": "stream",
     "text": [
      "<class 'pandas.core.frame.DataFrame'>\n",
      "Int64Index: 9213 entries, 13710 to 63904\n",
      "Data columns (total 22 columns):\n",
      " #   Column                  Non-Null Count  Dtype         \n",
      "---  ------                  --------------  -----         \n",
      " 0   Event.Date              9213 non-null   datetime64[ns]\n",
      " 1   Location                9213 non-null   object        \n",
      " 2   Country                 9213 non-null   object        \n",
      " 3   Injury.Severity         9213 non-null   object        \n",
      " 4   Aircraft.damage         9201 non-null   object        \n",
      " 5   Aircraft.Category       9213 non-null   object        \n",
      " 6   Make                    9213 non-null   object        \n",
      " 7   Model                   9213 non-null   object        \n",
      " 8   Amateur.Built           9213 non-null   object        \n",
      " 9   Number.of.Engines       9203 non-null   float64       \n",
      " 10  Engine.Type             9209 non-null   object        \n",
      " 11  Purpose.of.flight       9213 non-null   object        \n",
      " 12  Total.Fatal.Injuries    9213 non-null   float64       \n",
      " 13  Total.Serious.Injuries  9213 non-null   float64       \n",
      " 14  Total.Minor.Injuries    9213 non-null   float64       \n",
      " 15  Total.Uninjured         9213 non-null   float64       \n",
      " 16  Weather.Condition       9209 non-null   object        \n",
      " 17  Broad.phase.of.flight   9213 non-null   object        \n",
      " 18  year                    9213 non-null   int64         \n",
      " 19  month                   9213 non-null   object        \n",
      " 20  Make/Model              9213 non-null   object        \n",
      " 21  model_new               9213 non-null   object        \n",
      "dtypes: datetime64[ns](1), float64(5), int64(1), object(15)\n",
      "memory usage: 1.6+ MB\n"
     ]
    }
   ],
   "source": [
    "planes_of_interest.info()"
   ]
  },
  {
   "cell_type": "code",
   "execution_count": 42,
   "metadata": {},
   "outputs": [
    {
     "data": {
      "image/png": "[encoded data removed]",
      "text/plain": [
       "<Figure size 576x432 with 1 Axes>"
      ]
     },
     "metadata": {
      "needs_background": "light"
     },
     "output_type": "display_data"
    },
    {
     "data": {
      "image/png": "[encoded data removed]",
      "text/plain": [
       "<Figure size 576x432 with 1 Axes>"
      ]
     },
     "metadata": {
      "needs_background": "light"
     },
     "output_type": "display_data"
    },
    {
     "data": {
      "image/png": "[encoded data removed]",
      "text/plain": [
       "<Figure size 576x432 with 1 Axes>"
      ]
     },
     "metadata": {
      "needs_background": "light"
     },
     "output_type": "display_data"
    },
    {
     "data": {
      "image/png": "[encoded data removed]",
      "text/plain": [
       "<Figure size 576x432 with 1 Axes>"
      ]
     },
     "metadata": {
      "needs_background": "light"
     },
     "output_type": "display_data"
    },
    {
     "data": {
      "image/png": "[encoded data removed]",
      "text/plain": [
       "<Figure size 576x432 with 1 Axes>"
      ]
     },
     "metadata": {
      "needs_background": "light"
     },
     "output_type": "display_data"
    },
    {
     "data": {
      "image/png": "[encoded data removed]",
      "text/plain": [
       "<Figure size 576x432 with 1 Axes>"
      ]
     },
     "metadata": {
      "needs_background": "light"
     },
     "output_type": "display_data"
    }
   ],
   "source": [
    "#Checking the numerical columns again to check for any other outliers.\n",
    "\n",
    "# List of numerical columns to look for outliers.\n",
    "outlier_columns = ['Number.of.Engines', 'Total.Fatal.Injuries', 'Total.Serious.Injuries', 'Total.Minor.Injuries', 'Total.Uninjured', 'year']\n",
    "\n",
    "# Create a box plot for each specified column\n",
    "for column in outlier_columns:\n",
    "    plt.figure(figsize=(8, 6))\n",
    "    sns.boxplot(x=planes_of_interest[column])\n",
    "    plt.title(f'Box Plot for {column}')\n",
    "    plt.show()"
   ]
  },
  {
   "cell_type": "markdown",
   "metadata": {},
   "source": [
    "The Cessna 152 and 172 are single engine planes, so I will change the value of number of engines to 1 to be consistent."
   ]
  },
  {
   "cell_type": "code",
   "execution_count": 43,
   "metadata": {},
   "outputs": [],
   "source": [
    "#Identifying Rows where the number of engines is equal to 2, and confirming the Make and model is consistent \n",
    "planes_of_interest[planes_of_interest['Number.of.Engines'] == 2]\n",
    "\n",
    "#Reassinging the value to 1.\n",
    "planes_of_interest.loc[planes_of_interest['Number.of.Engines'] == 2, 'Number.of.Engines'] = 1"
   ]
  },
  {
   "cell_type": "markdown",
   "metadata": {},
   "source": [
    "## Feature Engineering"
   ]
  },
  {
   "cell_type": "markdown",
   "metadata": {},
   "source": [
    "I create `Survivors` and `Total.People` to analyze percentage of people who survive incidents in these aircraft.\n",
    "I create `State` and `City` to create a heat map to analyze the number of Fatalities by State."
   ]
  },
  {
   "cell_type": "code",
   "execution_count": 44,
   "metadata": {},
   "outputs": [],
   "source": [
    "#Creating a column called survivors: Sum of all injury categories except for fatal.\n",
    "planes_of_interest['Survivors'] = planes_of_interest['Total.Minor.Injuries'] + planes_of_interest['Total.Serious.Injuries'] +planes_of_interest['Total.Uninjured']\n",
    "\n",
    "#Creating a column called Total.People, to show how many were involved in the accident.\n",
    "planes_of_interest['Total.People'] = planes_of_interest['Survivors'] + planes_of_interest['Total.Fatal.Injuries']"
   ]
  },
  {
   "cell_type": "code",
   "execution_count": 45,
   "metadata": {},
   "outputs": [],
   "source": [
    "# creating State and City variables for heat map in Tableau\n",
    "planes_of_interest['State'] = planes_of_interest['Location'].str.split(',').str[-1].str.strip()\n",
    "planes_of_interest['City'] = planes_of_interest['Location'].str.split(',').str[0].str.strip()\n",
    "\n",
    "# Save the DataFrame to a Excel file to analysis\n",
    "# planes_of_interest.to_excel('./Data/flight_data_tableau.xlsx')"
   ]
  },
  {
   "cell_type": "markdown",
   "metadata": {},
   "source": [
    "## Analysis"
   ]
  },
  {
   "cell_type": "markdown",
   "metadata": {},
   "source": [
    "### Number of Fatalities Year Over Year"
   ]
  },
  {
   "cell_type": "markdown",
   "metadata": {},
   "source": [
    "Across the years 1986 to 2007, a notable reduction in the total number of fatalities is evident in airplane accidents involving the Cessna 150, Cessna 152, Cessna 172, and Piper PA-28 models. This positive trend reflects advancements in aviation safety practices and technology specific to these aircraft. Improved design features, avionics systems, and adherence to stringent safety regulations have collectively contributed to a safer operational environment. Pilot training programs, coupled with enhanced air traffic control systems, further underscore the commitment to mitigating risks and ensuring the well-being of individuals involved in aviation. While speculative, these positive developments align with the broader industry's continuous efforts to enhance safety measures and foster a culture of responsibility.\n",
    "\n",
    "When comparing the four-seaters against each other over the years, the Cessna 172 has record less fatal injuries than the Piper Pa-28. As for the two-seater options, the Cessna 152 edges out its prior version, the Cessna 150, which should be expected with upgrades to the aircraft.   "
   ]
  },
  {
   "cell_type": "code",
   "execution_count": 46,
   "metadata": {},
   "outputs": [
    {
     "data": {
      "image/png": "[encoded data removed]",
      "text/plain": [
       "<Figure size 864x576 with 1 Axes>"
      ]
     },
     "metadata": {
      "needs_background": "light"
     },
     "output_type": "display_data"
    }
   ],
   "source": [
    "#Plot 1\n",
    "models_of_interest = ['150', '152', '172', 'pa-28']\n",
    "\n",
    "# Set the size of the figure\n",
    "plt.figure(figsize=(12, 8))\n",
    "\n",
    "# Iterate through each model and plot a line graph\n",
    "for model in models_of_interest:\n",
    "    model_data = planes_of_interest[planes_of_interest['model_new'] == model]\n",
    "    yearly_fatalities = model_data.groupby('year')['Total.Fatal.Injuries'].sum()\n",
    "    plt.plot(yearly_fatalities.index, yearly_fatalities, label=model)\n",
    "\n",
    "# Add labels and title\n",
    "plt.xlabel('Year')\n",
    "plt.ylabel('Number of Fatalities')\n",
    "plt.title('Fatalities Year Over Year for Different Airplane Models')\n",
    "plt.legend()\n",
    "\n",
    "# Add evenly spaced tick marks between the years\n",
    "min_year = 1986\n",
    "max_year = 2007\n",
    "plt.xticks(np.arange(min_year, max_year + 1, step=1), rotation=45)\n",
    "\n",
    "# Set the facecolor to white\n",
    "plt.gcf().set_facecolor('white')\n",
    "\n",
    "# Adjust layout\n",
    "plt.tight_layout()\n",
    "\n",
    "# Save the figure with a white background\n",
    "plt.savefig(\"./images/fatalities_YOY_by_model.png\", dpi=150, facecolor='white')\n",
    "\n",
    "# Display the plot\n",
    "plt.show()"
   ]
  },
  {
   "cell_type": "markdown",
   "metadata": {},
   "source": [
    "### Time of Year to Schedule Instructional and Personal Flights"
   ]
  },
  {
   "cell_type": "markdown",
   "metadata": {},
   "source": [
    "The side-by-side comparison of fatalities in instructional and personal flights reveals distinct patterns in their occurrence throughout the year. Notably, instructional flights exhibit a considerably lower number of fatalities compared to personal flights. The instructional subset portrays a consistent safety trend, suggesting that flying is relatively safe year-round. February stands out with a slight increase, peaking at around 60 fatalities, but overall, instructional flights demonstrate a stable safety record.\n",
    "\n",
    "On the contrary, the personal flight subset shows a different dynamic, with fatalities peaking during the summer months. April and August mark the highest points, indicating a correlation between the warmer seasons and an elevated number of fatalities in personal flights. Additionally, the winter months, from November to March, present the lowest number of observations, aligning with a decrease in flight activity during the colder periods. This side-by-side analysis provides valuable insights into the seasonal variations in aviation safety, emphasizing the need for tailored risk assessments based on flight purposes.\n",
    "\n",
    "Based on this data, we should plan the stages of our students flights around these time frames:\n",
    "1. Instructional Flights: April through September.\n",
    "2. Personal Flights: October through March. "
   ]
  },
  {
   "cell_type": "code",
   "execution_count": 47,
   "metadata": {},
   "outputs": [
    {
     "data": {
      "image/png": "[encoded data removed]",
      "text/plain": [
       "<Figure size 864x288 with 2 Axes>"
      ]
     },
     "metadata": {
      "needs_background": "light"
     },
     "output_type": "display_data"
    }
   ],
   "source": [
    "#Plot 2\n",
    "# Define the order of months\n",
    "month_order = [\n",
    "    'January', 'February', 'March', 'April', 'May', 'June',\n",
    "    'July', 'August', 'September', 'October', 'November', 'December'\n",
    "]\n",
    "\n",
    "# Filter data for instructional and personal flights\n",
    "instructional_data = planes_of_interest[planes_of_interest['Purpose.of.flight'] == 'Instructional']\n",
    "personal_data = planes_of_interest[planes_of_interest['Purpose.of.flight'] == 'Personal']\n",
    "\n",
    "# Group by month and calculate the sum of fatalities\n",
    "instructional_fatalities_by_month = instructional_data.groupby('month')['Total.Fatal.Injuries'].sum().loc[month_order]\n",
    "personal_fatalities_by_month = personal_data.groupby('month')['Total.Fatal.Injuries'].sum().loc[month_order]\n",
    "\n",
    "# Create plot\n",
    "fig, axes = plt.subplots(nrows=1, ncols=2, figsize=(12, 4))\n",
    "\n",
    "# Plot for instructional flights\n",
    "axes[0].bar(instructional_fatalities_by_month.index, instructional_fatalities_by_month)\n",
    "axes[0].set_title('Instructional Fatalities by Month')\n",
    "axes[0].set_ylabel('Number of Fatalities')\n",
    "axes[0].set_xlabel('Month')\n",
    "\n",
    "# Replace x-axis labels with the first initial of each month\n",
    "axes[0].set_xticklabels([month[:1] for month in instructional_fatalities_by_month.index])\n",
    "\n",
    "# Plot for personal flights\n",
    "axes[1].bar(personal_fatalities_by_month.index, personal_fatalities_by_month)\n",
    "axes[1].set_title('Personal Fatalities by Month')\n",
    "axes[1].set_ylabel('Number of Fatalities')\n",
    "axes[1].set_xlabel('Month')\n",
    "\n",
    "# Replace x-axis labels with the first initial of each month\n",
    "axes[1].set_xticklabels([month[:1] for month in personal_fatalities_by_month.index])\n",
    "\n",
    "# Set the facecolor to white\n",
    "plt.gcf().set_facecolor('white')\n",
    "\n",
    "# Adjust layout\n",
    "plt.tight_layout()\n",
    "\n",
    "# Save the figure with a white background\n",
    "plt.savefig(\"./images/Total_Fatalities_by_Month.png\", dpi=150, facecolor='white')\n",
    "\n",
    "# Display the plot\n",
    "plt.show()"
   ]
  },
  {
   "cell_type": "markdown",
   "metadata": {},
   "source": [
    "### Choosing a Plane Based on Fatality and Survival Percentages"
   ]
  },
  {
   "cell_type": "markdown",
   "metadata": {},
   "source": [
    "The Cessna 152 stands out with the highest overall survival rate at 89.63%, indicating a relatively higher likelihood of passengers and crew surviving incidents. In contrast, the Piper pa-28 shows a slightly lower overall survival percentage at 79.90%, suggesting a comparatively lower average survival rate. The Cessna 150 and Cessna 172 fall within a similar range, both around 87%, indicating comparable safety performance. These brief observations highlight differences in safety outcomes among the selected aircraft models."
   ]
  },
  {
   "cell_type": "code",
   "execution_count": 52,
   "metadata": {},
   "outputs": [
    {
     "data": {
      "text/plain": [
       "172      3315\n",
       "pa-28    2499\n",
       "150      1919\n",
       "152      1480\n",
       "Name: model_new, dtype: int64"
      ]
     },
     "execution_count": 52,
     "metadata": {},
     "output_type": "execute_result"
    }
   ],
   "source": [
    "planes_of_interest['model_new'].value_counts()"
   ]
  },
  {
   "cell_type": "code",
   "execution_count": 49,
   "metadata": {},
   "outputs": [
    {
     "data": {
      "image/png": "[encoded data removed]",
      "text/plain": [
       "<Figure size 720x432 with 1 Axes>"
      ]
     },
     "metadata": {},
     "output_type": "display_data"
    }
   ],
   "source": [
    "#Plot 4\n",
    "models_of_interest = ['150', '152', '172', 'pa-28']\n",
    "\n",
    "# Initialize lists to store data for plotting\n",
    "survival_percentages = []\n",
    "fatality_percentages = []\n",
    "\n",
    "# Iterate through each model\n",
    "for model in models_of_interest:\n",
    "    # Filter data for the specific aircraft model\n",
    "    filtered_data = planes_of_interest[planes_of_interest['model_new'] == model]\n",
    "\n",
    "    # Calculate overall percentages\n",
    "    total_survivors = filtered_data['Survivors'].sum()\n",
    "    total_fatalities = filtered_data['Total.Fatal.Injuries'].sum()\n",
    "    total_people = total_survivors + total_fatalities\n",
    "    overall_survival_percentage = (total_survivors / total_people) * 100\n",
    "    overall_fatality_percentage = 100 - overall_survival_percentage\n",
    "\n",
    "    # Append percentages to the lists\n",
    "    survival_percentages.append(overall_survival_percentage)\n",
    "    fatality_percentages.append(overall_fatality_percentage)\n",
    "\n",
    "# Set the size of the figure\n",
    "plt.figure(figsize=(10, 6))\n",
    "    \n",
    "# Create a stacked bar chart\n",
    "bar_width = 0.35\n",
    "index = range(len(models_of_interest))\n",
    "\n",
    "plt.bar(index, survival_percentages, label='Survival %', color='green', width=bar_width)\n",
    "plt.bar(index, fatality_percentages, bottom=survival_percentages, label='Fatality %', color='red', width=bar_width)\n",
    "\n",
    "# Add labels and title\n",
    "plt.xlabel('Aircraft Model')\n",
    "plt.ylabel('Percentage')\n",
    "plt.title('Survival and Fatality Percentages for Aircraft Models')\n",
    "plt.xticks(index, models_of_interest)\n",
    "\n",
    "# Set y-axis ticks as percentages\n",
    "plt.gca().yaxis.set_major_formatter(PercentFormatter(100))\n",
    "\n",
    "# Ensure the y-axis limit is set to 100%\n",
    "plt.ylim(0, 100)\n",
    "\n",
    "# Place the legend in the bottom right corner\n",
    "plt.legend(loc='lower right')\n",
    "\n",
    "# Set the facecolor to white\n",
    "plt.gcf().set_facecolor('white')\n",
    "\n",
    "# Adjust layout\n",
    "plt.tight_layout()\n",
    "\n",
    "# Save the figure with a white background\n",
    "plt.savefig(\"./images/doa_percent_by_model.png\", dpi=150, facecolor='white')\n",
    "\n",
    "# Display the plot\n",
    "plt.show()"
   ]
  },
  {
   "cell_type": "markdown",
   "metadata": {},
   "source": [
    "## Conclusion\n",
    "\n",
    "This analysis leads to three recommendations for starting our flight school business:\n",
    "\n",
    "- **Invest in a Cessna model aircraft.** The Cessna 152 stands out with the highest overall survival rate at 89.63%, followed closely by the Cessna 150 and 172 at ~87%. The Piper pa-28 showed the lowest overall survival percentage at 79.90%. \n",
    "- **Pay a little extra for a newer model plane.** Technology has evolved drastically since the inception of all these models of interest, and it is clear that over the years these planes have shown to be safer.\n",
    "- **Tailored risk assessments for flight planning.** Instructional flights consistently maintain lower fatality rates throughout the year, with a minor peak in February, while personal flights show a distinct seasonal pattern, peaking in fatalities during summer months (April and August). Flight planning considerations suggest scheduling instructional flights year-round and personal flights preferably from October to March."
   ]
  },
  {
   "cell_type": "markdown",
   "metadata": {},
   "source": [
    "### Next Steps"
   ]
  },
  {
   "cell_type": "code",
   "execution_count": null,
   "metadata": {},
   "outputs": [],
   "source": []
  }
 ],
 "metadata": {
  "kernelspec": {
   "display_name": "Python (learn-env)",
   "language": "python",
   "name": "learn-env"
  },
  "language_info": {
   "codemirror_mode": {
    "name": "ipython",
    "version": 3
   },
   "file_extension": ".py",
   "mimetype": "text/x-python",
   "name": "python",
   "nbconvert_exporter": "python",
   "pygments_lexer": "ipython3",
   "version": "3.8.5"
  }
 },
 "nbformat": 4,
 "nbformat_minor": 4
}
