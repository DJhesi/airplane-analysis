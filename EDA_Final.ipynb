{
 "cells": [
  {
   "cell_type": "markdown",
   "metadata": {},
   "source": [
    "# Make Flying Safer by Choosing the Right Plane\n",
    "\n",
    "![How-to-Choose](./images/cessna_vs_piper.jpg)"
   ]
  },
  {
   "cell_type": "markdown",
   "metadata": {},
   "source": [
    "## Overview\n",
    "\n",
    "This project focuses on determining the optimal aircraft investment for our newly established flight school, with a paramount emphasis on minimizing risk and prioritizing safety. As we embark on this venture, the choice of aircraft is pivotal to the overall safety and success of our flight operations."
   ]
  },
  {
   "cell_type": "markdown",
   "metadata": {},
   "source": [
    "## Business Problem\n",
    "\n",
    "![img]()\n",
    "\n",
    "The Austin Animal Shelter may be able to improve their resource allocation to both reduce costs and ensure that the center has staff and space to care for the animals brought to them. Doing so will allow the Austin Animal Shelter to better serve its clients while also freeing up resources to expand the scope of services they can offer. Using AAC's animal intake and outcome data, I describe patterns in intakes, stays, and exits to anticipate AAC's outreach, space, and staffing needs for supporting sheltered animals."
   ]
  },
  {
   "cell_type": "markdown",
   "metadata": {},
   "source": [
    "## Data Understanding\n",
    "\n",
    "![img2]()\n",
    "\n",
    "[NTSB aviation accident](https://www.kaggle.com/datasets/khsamaha/aviation-accident-database-synopses/data?select=AviationData.csv) "
   ]
  },
  {
   "cell_type": "code",
   "execution_count": 1,
   "metadata": {},
   "outputs": [],
   "source": [
    "# Import libraries\n",
    "import pandas as pd\n",
    "import numpy as np\n",
    "import seaborn as sns\n",
    "import matplotlib.pyplot as plt\n",
    "import warnings\n",
    "warnings.filterwarnings('ignore')\n",
    "%matplotlib inline"
   ]
  },
  {
   "cell_type": "code",
   "execution_count": 2,
   "metadata": {},
   "outputs": [],
   "source": [
    "# Load in data\n",
    "df=pd.read_csv('Data/AviationData.csv', encoding='latin-1', low_memory=False)"
   ]
  },
  {
   "cell_type": "code",
   "execution_count": 3,
   "metadata": {},
   "outputs": [
    {
     "name": "stdout",
     "output_type": "stream",
     "text": [
      "<class 'pandas.core.frame.DataFrame'>\n",
      "RangeIndex: 88889 entries, 0 to 88888\n",
      "Data columns (total 31 columns):\n",
      " #   Column                  Non-Null Count  Dtype  \n",
      "---  ------                  --------------  -----  \n",
      " 0   Event.Id                88889 non-null  object \n",
      " 1   Investigation.Type      88889 non-null  object \n",
      " 2   Accident.Number         88889 non-null  object \n",
      " 3   Event.Date              88889 non-null  object \n",
      " 4   Location                88837 non-null  object \n",
      " 5   Country                 88663 non-null  object \n",
      " 6   Latitude                34382 non-null  object \n",
      " 7   Longitude               34373 non-null  object \n",
      " 8   Airport.Code            50249 non-null  object \n",
      " 9   Airport.Name            52790 non-null  object \n",
      " 10  Injury.Severity         87889 non-null  object \n",
      " 11  Aircraft.damage         85695 non-null  object \n",
      " 12  Aircraft.Category       32287 non-null  object \n",
      " 13  Registration.Number     87572 non-null  object \n",
      " 14  Make                    88826 non-null  object \n",
      " 15  Model                   88797 non-null  object \n",
      " 16  Amateur.Built           88787 non-null  object \n",
      " 17  Number.of.Engines       82805 non-null  float64\n",
      " 18  Engine.Type             81812 non-null  object \n",
      " 19  FAR.Description         32023 non-null  object \n",
      " 20  Schedule                12582 non-null  object \n",
      " 21  Purpose.of.flight       82697 non-null  object \n",
      " 22  Air.carrier             16648 non-null  object \n",
      " 23  Total.Fatal.Injuries    77488 non-null  float64\n",
      " 24  Total.Serious.Injuries  76379 non-null  float64\n",
      " 25  Total.Minor.Injuries    76956 non-null  float64\n",
      " 26  Total.Uninjured         82977 non-null  float64\n",
      " 27  Weather.Condition       84397 non-null  object \n",
      " 28  Broad.phase.of.flight   61724 non-null  object \n",
      " 29  Report.Status           82508 non-null  object \n",
      " 30  Publication.Date        75118 non-null  object \n",
      "dtypes: float64(5), object(26)\n",
      "memory usage: 21.0+ MB\n"
     ]
    }
   ],
   "source": [
    "df.info()"
   ]
  },
  {
   "cell_type": "code",
   "execution_count": 4,
   "metadata": {},
   "outputs": [
    {
     "data": {
      "text/html": [
       "<div>\n",
       "<style scoped>\n",
       "    .dataframe tbody tr th:only-of-type {\n",
       "        vertical-align: middle;\n",
       "    }\n",
       "\n",
       "    .dataframe tbody tr th {\n",
       "        vertical-align: top;\n",
       "    }\n",
       "\n",
       "    .dataframe thead th {\n",
       "        text-align: right;\n",
       "    }\n",
       "</style>\n",
       "<table border=\"1\" class=\"dataframe\">\n",
       "  <thead>\n",
       "    <tr style=\"text-align: right;\">\n",
       "      <th></th>\n",
       "      <th>Number.of.Engines</th>\n",
       "      <th>Total.Fatal.Injuries</th>\n",
       "      <th>Total.Serious.Injuries</th>\n",
       "      <th>Total.Minor.Injuries</th>\n",
       "      <th>Total.Uninjured</th>\n",
       "    </tr>\n",
       "  </thead>\n",
       "  <tbody>\n",
       "    <tr>\n",
       "      <th>count</th>\n",
       "      <td>82805.000000</td>\n",
       "      <td>77488.000000</td>\n",
       "      <td>76379.000000</td>\n",
       "      <td>76956.000000</td>\n",
       "      <td>82977.000000</td>\n",
       "    </tr>\n",
       "    <tr>\n",
       "      <th>mean</th>\n",
       "      <td>1.146585</td>\n",
       "      <td>0.647855</td>\n",
       "      <td>0.279881</td>\n",
       "      <td>0.357061</td>\n",
       "      <td>5.325440</td>\n",
       "    </tr>\n",
       "    <tr>\n",
       "      <th>std</th>\n",
       "      <td>0.446510</td>\n",
       "      <td>5.485960</td>\n",
       "      <td>1.544084</td>\n",
       "      <td>2.235625</td>\n",
       "      <td>27.913634</td>\n",
       "    </tr>\n",
       "    <tr>\n",
       "      <th>min</th>\n",
       "      <td>0.000000</td>\n",
       "      <td>0.000000</td>\n",
       "      <td>0.000000</td>\n",
       "      <td>0.000000</td>\n",
       "      <td>0.000000</td>\n",
       "    </tr>\n",
       "    <tr>\n",
       "      <th>25%</th>\n",
       "      <td>1.000000</td>\n",
       "      <td>0.000000</td>\n",
       "      <td>0.000000</td>\n",
       "      <td>0.000000</td>\n",
       "      <td>0.000000</td>\n",
       "    </tr>\n",
       "    <tr>\n",
       "      <th>50%</th>\n",
       "      <td>1.000000</td>\n",
       "      <td>0.000000</td>\n",
       "      <td>0.000000</td>\n",
       "      <td>0.000000</td>\n",
       "      <td>1.000000</td>\n",
       "    </tr>\n",
       "    <tr>\n",
       "      <th>75%</th>\n",
       "      <td>1.000000</td>\n",
       "      <td>0.000000</td>\n",
       "      <td>0.000000</td>\n",
       "      <td>0.000000</td>\n",
       "      <td>2.000000</td>\n",
       "    </tr>\n",
       "    <tr>\n",
       "      <th>max</th>\n",
       "      <td>8.000000</td>\n",
       "      <td>349.000000</td>\n",
       "      <td>161.000000</td>\n",
       "      <td>380.000000</td>\n",
       "      <td>699.000000</td>\n",
       "    </tr>\n",
       "  </tbody>\n",
       "</table>\n",
       "</div>"
      ],
      "text/plain": [
       "       Number.of.Engines  Total.Fatal.Injuries  Total.Serious.Injuries  \\\n",
       "count       82805.000000          77488.000000            76379.000000   \n",
       "mean            1.146585              0.647855                0.279881   \n",
       "std             0.446510              5.485960                1.544084   \n",
       "min             0.000000              0.000000                0.000000   \n",
       "25%             1.000000              0.000000                0.000000   \n",
       "50%             1.000000              0.000000                0.000000   \n",
       "75%             1.000000              0.000000                0.000000   \n",
       "max             8.000000            349.000000              161.000000   \n",
       "\n",
       "       Total.Minor.Injuries  Total.Uninjured  \n",
       "count          76956.000000     82977.000000  \n",
       "mean               0.357061         5.325440  \n",
       "std                2.235625        27.913634  \n",
       "min                0.000000         0.000000  \n",
       "25%                0.000000         0.000000  \n",
       "50%                0.000000         1.000000  \n",
       "75%                0.000000         2.000000  \n",
       "max              380.000000       699.000000  "
      ]
     },
     "execution_count": 4,
     "metadata": {},
     "output_type": "execute_result"
    }
   ],
   "source": [
    "df.describe()"
   ]
  },
  {
   "cell_type": "markdown",
   "metadata": {},
   "source": [
    "### Aviation Accident Data"
   ]
  },
  {
   "cell_type": "markdown",
   "metadata": {},
   "source": [
    "The aviation dataset includes accident records from October 1948 to December 2022, and includes a wide variety of incidents, locations, aircraft types, and injury severities."
   ]
  },
  {
   "cell_type": "code",
   "execution_count": 5,
   "metadata": {},
   "outputs": [
    {
     "data": {
      "text/html": [
       "<div>\n",
       "<style scoped>\n",
       "    .dataframe tbody tr th:only-of-type {\n",
       "        vertical-align: middle;\n",
       "    }\n",
       "\n",
       "    .dataframe tbody tr th {\n",
       "        vertical-align: top;\n",
       "    }\n",
       "\n",
       "    .dataframe thead th {\n",
       "        text-align: right;\n",
       "    }\n",
       "</style>\n",
       "<table border=\"1\" class=\"dataframe\">\n",
       "  <thead>\n",
       "    <tr style=\"text-align: right;\">\n",
       "      <th></th>\n",
       "      <th>Event.Id</th>\n",
       "      <th>Investigation.Type</th>\n",
       "      <th>Accident.Number</th>\n",
       "      <th>Event.Date</th>\n",
       "      <th>Location</th>\n",
       "      <th>Country</th>\n",
       "      <th>Latitude</th>\n",
       "      <th>Longitude</th>\n",
       "      <th>Airport.Code</th>\n",
       "      <th>Airport.Name</th>\n",
       "      <th>...</th>\n",
       "      <th>Purpose.of.flight</th>\n",
       "      <th>Air.carrier</th>\n",
       "      <th>Total.Fatal.Injuries</th>\n",
       "      <th>Total.Serious.Injuries</th>\n",
       "      <th>Total.Minor.Injuries</th>\n",
       "      <th>Total.Uninjured</th>\n",
       "      <th>Weather.Condition</th>\n",
       "      <th>Broad.phase.of.flight</th>\n",
       "      <th>Report.Status</th>\n",
       "      <th>Publication.Date</th>\n",
       "    </tr>\n",
       "  </thead>\n",
       "  <tbody>\n",
       "    <tr>\n",
       "      <th>0</th>\n",
       "      <td>20001218X45444</td>\n",
       "      <td>Accident</td>\n",
       "      <td>SEA87LA080</td>\n",
       "      <td>1948-10-24</td>\n",
       "      <td>MOOSE CREEK, ID</td>\n",
       "      <td>United States</td>\n",
       "      <td>NaN</td>\n",
       "      <td>NaN</td>\n",
       "      <td>NaN</td>\n",
       "      <td>NaN</td>\n",
       "      <td>...</td>\n",
       "      <td>Personal</td>\n",
       "      <td>NaN</td>\n",
       "      <td>2.0</td>\n",
       "      <td>0.0</td>\n",
       "      <td>0.0</td>\n",
       "      <td>0.0</td>\n",
       "      <td>UNK</td>\n",
       "      <td>Cruise</td>\n",
       "      <td>Probable Cause</td>\n",
       "      <td>NaN</td>\n",
       "    </tr>\n",
       "    <tr>\n",
       "      <th>1</th>\n",
       "      <td>20001218X45447</td>\n",
       "      <td>Accident</td>\n",
       "      <td>LAX94LA336</td>\n",
       "      <td>1962-07-19</td>\n",
       "      <td>BRIDGEPORT, CA</td>\n",
       "      <td>United States</td>\n",
       "      <td>NaN</td>\n",
       "      <td>NaN</td>\n",
       "      <td>NaN</td>\n",
       "      <td>NaN</td>\n",
       "      <td>...</td>\n",
       "      <td>Personal</td>\n",
       "      <td>NaN</td>\n",
       "      <td>4.0</td>\n",
       "      <td>0.0</td>\n",
       "      <td>0.0</td>\n",
       "      <td>0.0</td>\n",
       "      <td>UNK</td>\n",
       "      <td>Unknown</td>\n",
       "      <td>Probable Cause</td>\n",
       "      <td>19-09-1996</td>\n",
       "    </tr>\n",
       "    <tr>\n",
       "      <th>2</th>\n",
       "      <td>20061025X01555</td>\n",
       "      <td>Accident</td>\n",
       "      <td>NYC07LA005</td>\n",
       "      <td>1974-08-30</td>\n",
       "      <td>Saltville, VA</td>\n",
       "      <td>United States</td>\n",
       "      <td>36.922223</td>\n",
       "      <td>-81.878056</td>\n",
       "      <td>NaN</td>\n",
       "      <td>NaN</td>\n",
       "      <td>...</td>\n",
       "      <td>Personal</td>\n",
       "      <td>NaN</td>\n",
       "      <td>3.0</td>\n",
       "      <td>NaN</td>\n",
       "      <td>NaN</td>\n",
       "      <td>NaN</td>\n",
       "      <td>IMC</td>\n",
       "      <td>Cruise</td>\n",
       "      <td>Probable Cause</td>\n",
       "      <td>26-02-2007</td>\n",
       "    </tr>\n",
       "    <tr>\n",
       "      <th>3</th>\n",
       "      <td>20001218X45448</td>\n",
       "      <td>Accident</td>\n",
       "      <td>LAX96LA321</td>\n",
       "      <td>1977-06-19</td>\n",
       "      <td>EUREKA, CA</td>\n",
       "      <td>United States</td>\n",
       "      <td>NaN</td>\n",
       "      <td>NaN</td>\n",
       "      <td>NaN</td>\n",
       "      <td>NaN</td>\n",
       "      <td>...</td>\n",
       "      <td>Personal</td>\n",
       "      <td>NaN</td>\n",
       "      <td>2.0</td>\n",
       "      <td>0.0</td>\n",
       "      <td>0.0</td>\n",
       "      <td>0.0</td>\n",
       "      <td>IMC</td>\n",
       "      <td>Cruise</td>\n",
       "      <td>Probable Cause</td>\n",
       "      <td>12-09-2000</td>\n",
       "    </tr>\n",
       "    <tr>\n",
       "      <th>4</th>\n",
       "      <td>20041105X01764</td>\n",
       "      <td>Accident</td>\n",
       "      <td>CHI79FA064</td>\n",
       "      <td>1979-08-02</td>\n",
       "      <td>Canton, OH</td>\n",
       "      <td>United States</td>\n",
       "      <td>NaN</td>\n",
       "      <td>NaN</td>\n",
       "      <td>NaN</td>\n",
       "      <td>NaN</td>\n",
       "      <td>...</td>\n",
       "      <td>Personal</td>\n",
       "      <td>NaN</td>\n",
       "      <td>1.0</td>\n",
       "      <td>2.0</td>\n",
       "      <td>NaN</td>\n",
       "      <td>0.0</td>\n",
       "      <td>VMC</td>\n",
       "      <td>Approach</td>\n",
       "      <td>Probable Cause</td>\n",
       "      <td>16-04-1980</td>\n",
       "    </tr>\n",
       "  </tbody>\n",
       "</table>\n",
       "<p>5 rows × 31 columns</p>\n",
       "</div>"
      ],
      "text/plain": [
       "         Event.Id Investigation.Type Accident.Number  Event.Date  \\\n",
       "0  20001218X45444           Accident      SEA87LA080  1948-10-24   \n",
       "1  20001218X45447           Accident      LAX94LA336  1962-07-19   \n",
       "2  20061025X01555           Accident      NYC07LA005  1974-08-30   \n",
       "3  20001218X45448           Accident      LAX96LA321  1977-06-19   \n",
       "4  20041105X01764           Accident      CHI79FA064  1979-08-02   \n",
       "\n",
       "          Location        Country   Latitude   Longitude Airport.Code  \\\n",
       "0  MOOSE CREEK, ID  United States        NaN         NaN          NaN   \n",
       "1   BRIDGEPORT, CA  United States        NaN         NaN          NaN   \n",
       "2    Saltville, VA  United States  36.922223  -81.878056          NaN   \n",
       "3       EUREKA, CA  United States        NaN         NaN          NaN   \n",
       "4       Canton, OH  United States        NaN         NaN          NaN   \n",
       "\n",
       "  Airport.Name  ... Purpose.of.flight Air.carrier Total.Fatal.Injuries  \\\n",
       "0          NaN  ...          Personal         NaN                  2.0   \n",
       "1          NaN  ...          Personal         NaN                  4.0   \n",
       "2          NaN  ...          Personal         NaN                  3.0   \n",
       "3          NaN  ...          Personal         NaN                  2.0   \n",
       "4          NaN  ...          Personal         NaN                  1.0   \n",
       "\n",
       "  Total.Serious.Injuries Total.Minor.Injuries Total.Uninjured  \\\n",
       "0                    0.0                  0.0             0.0   \n",
       "1                    0.0                  0.0             0.0   \n",
       "2                    NaN                  NaN             NaN   \n",
       "3                    0.0                  0.0             0.0   \n",
       "4                    2.0                  NaN             0.0   \n",
       "\n",
       "  Weather.Condition  Broad.phase.of.flight   Report.Status Publication.Date  \n",
       "0               UNK                 Cruise  Probable Cause              NaN  \n",
       "1               UNK                Unknown  Probable Cause       19-09-1996  \n",
       "2               IMC                 Cruise  Probable Cause       26-02-2007  \n",
       "3               IMC                 Cruise  Probable Cause       12-09-2000  \n",
       "4               VMC               Approach  Probable Cause       16-04-1980  \n",
       "\n",
       "[5 rows x 31 columns]"
      ]
     },
     "execution_count": 5,
     "metadata": {},
     "output_type": "execute_result"
    }
   ],
   "source": [
    "df.head()"
   ]
  },
  {
   "cell_type": "code",
   "execution_count": 6,
   "metadata": {},
   "outputs": [
    {
     "data": {
      "text/plain": [
       "count                   88889\n",
       "unique                  14782\n",
       "top       1982-05-16 00:00:00\n",
       "freq                       25\n",
       "first     1948-10-24 00:00:00\n",
       "last      2022-12-29 00:00:00\n",
       "Name: Event.Date, dtype: object"
      ]
     },
     "execution_count": 6,
     "metadata": {},
     "output_type": "execute_result"
    }
   ],
   "source": [
    "df['Event.Date'] = pd.to_datetime(df['Event.Date'])\n",
    "df['Event.Date'].describe()"
   ]
  },
  {
   "cell_type": "code",
   "execution_count": 7,
   "metadata": {},
   "outputs": [
    {
     "data": {
      "text/plain": [
       "ANCHORAGE, AK                     434\n",
       "MIAMI, FL                         200\n",
       "ALBUQUERQUE, NM                   196\n",
       "HOUSTON, TX                       193\n",
       "CHICAGO, IL                       184\n",
       "                                 ... \n",
       "Contrada Coccaro Fasano, Italy      1\n",
       "Wexford, Ireland                    1\n",
       "Foscoe, NC                          1\n",
       "Ambergris Caye Belize, Bahrain      1\n",
       "SULLIVAN, WI                        1\n",
       "Name: Location, Length: 27758, dtype: int64"
      ]
     },
     "execution_count": 7,
     "metadata": {},
     "output_type": "execute_result"
    }
   ],
   "source": [
    "df['Location'].value_counts()"
   ]
  },
  {
   "cell_type": "code",
   "execution_count": 8,
   "metadata": {},
   "outputs": [
    {
     "data": {
      "text/plain": [
       "United States               82248\n",
       "Brazil                        374\n",
       "Canada                        359\n",
       "Mexico                        358\n",
       "United Kingdom                344\n",
       "                            ...  \n",
       "Guernsey                        1\n",
       "Montserrat                      1\n",
       "Benin                           1\n",
       "Pacific Ocean                   1\n",
       "Turks and Caicos Islands        1\n",
       "Name: Country, Length: 219, dtype: int64"
      ]
     },
     "execution_count": 8,
     "metadata": {},
     "output_type": "execute_result"
    }
   ],
   "source": [
    "df['Country'].value_counts()"
   ]
  },
  {
   "cell_type": "code",
   "execution_count": 9,
   "metadata": {},
   "outputs": [
    {
     "data": {
      "text/plain": [
       "Airplane             27617\n",
       "Helicopter            3440\n",
       "Glider                 508\n",
       "Balloon                231\n",
       "Gyrocraft              173\n",
       "Weight-Shift           161\n",
       "Powered Parachute       91\n",
       "Ultralight              30\n",
       "Unknown                 14\n",
       "WSFT                     9\n",
       "Powered-Lift             5\n",
       "Blimp                    4\n",
       "UNK                      2\n",
       "ULTR                     1\n",
       "Rocket                   1\n",
       "Name: Aircraft.Category, dtype: int64"
      ]
     },
     "execution_count": 9,
     "metadata": {},
     "output_type": "execute_result"
    }
   ],
   "source": [
    "df['Aircraft.Category'].value_counts()"
   ]
  },
  {
   "cell_type": "code",
   "execution_count": 10,
   "metadata": {},
   "outputs": [
    {
     "data": {
      "text/plain": [
       "Cessna               22227\n",
       "Piper                12029\n",
       "CESSNA                4922\n",
       "Beech                 4330\n",
       "PIPER                 2841\n",
       "                     ...  \n",
       "Holiman                  1\n",
       "SHARP RALPH R            1\n",
       "Ken Brock Mfg. Co        1\n",
       "Taylor Titch             1\n",
       "Esbenshade               1\n",
       "Name: Make, Length: 8237, dtype: int64"
      ]
     },
     "execution_count": 10,
     "metadata": {},
     "output_type": "execute_result"
    }
   ],
   "source": [
    "df['Make'].value_counts()"
   ]
  },
  {
   "cell_type": "code",
   "execution_count": 11,
   "metadata": {},
   "outputs": [
    {
     "data": {
      "text/plain": [
       "152                    2367\n",
       "172                    1756\n",
       "172N                   1164\n",
       "PA-28-140               932\n",
       "150                     829\n",
       "                       ... \n",
       "DIAMOND                   1\n",
       "Fokker VI                 1\n",
       "S7CCM                     1\n",
       "TURBO THRUSH S2R-34       1\n",
       "LC-126C                   1\n",
       "Name: Model, Length: 12318, dtype: int64"
      ]
     },
     "execution_count": 11,
     "metadata": {},
     "output_type": "execute_result"
    }
   ],
   "source": [
    "df['Model'].value_counts()"
   ]
  },
  {
   "cell_type": "code",
   "execution_count": 12,
   "metadata": {},
   "outputs": [
    {
     "data": {
      "text/plain": [
       "Non-Fatal     67357\n",
       "Fatal(1)       6167\n",
       "Fatal          5262\n",
       "Fatal(2)       3711\n",
       "Incident       2219\n",
       "              ...  \n",
       "Fatal(114)        1\n",
       "Fatal(143)        1\n",
       "Fatal(89)         1\n",
       "Fatal(110)        1\n",
       "Fatal(199)        1\n",
       "Name: Injury.Severity, Length: 109, dtype: int64"
      ]
     },
     "execution_count": 12,
     "metadata": {},
     "output_type": "execute_result"
    }
   ],
   "source": [
    "df['Injury.Severity'].value_counts()"
   ]
  },
  {
   "cell_type": "markdown",
   "metadata": {},
   "source": [
    "## Data Preparation"
   ]
  },
  {
   "cell_type": "markdown",
   "metadata": {},
   "source": [
    "### Data Cleaning\n",
    "\n",
    "For the aviation accident dataset, we made them easier to work with by investigation and cleaning up certain columns and dropping unnecessary columns."
   ]
  },
  {
   "cell_type": "code",
   "execution_count": 13,
   "metadata": {},
   "outputs": [
    {
     "name": "stdout",
     "output_type": "stream",
     "text": [
      "<class 'pandas.core.frame.DataFrame'>\n",
      "Int64Index: 88777 entries, 0 to 88888\n",
      "Data columns (total 31 columns):\n",
      " #   Column                  Non-Null Count  Dtype         \n",
      "---  ------                  --------------  -----         \n",
      " 0   Event.Id                88777 non-null  object        \n",
      " 1   Investigation.Type      88777 non-null  object        \n",
      " 2   Accident.Number         88777 non-null  object        \n",
      " 3   Event.Date              88777 non-null  datetime64[ns]\n",
      " 4   Location                88725 non-null  object        \n",
      " 5   Country                 88552 non-null  object        \n",
      " 6   Latitude                34347 non-null  object        \n",
      " 7   Longitude               34338 non-null  object        \n",
      " 8   Airport.Code            50213 non-null  object        \n",
      " 9   Airport.Name            52746 non-null  object        \n",
      " 10  Injury.Severity         87798 non-null  object        \n",
      " 11  Aircraft.damage         85605 non-null  object        \n",
      " 12  Aircraft.Category       32245 non-null  object        \n",
      " 13  Registration.Number     87502 non-null  object        \n",
      " 14  Make                    88777 non-null  object        \n",
      " 15  Model                   88777 non-null  object        \n",
      " 16  Amateur.Built           88678 non-null  object        \n",
      " 17  Number.of.Engines       82754 non-null  float64       \n",
      " 18  Engine.Type             81771 non-null  object        \n",
      " 19  FAR.Description         31936 non-null  object        \n",
      " 20  Schedule                12532 non-null  object        \n",
      " 21  Purpose.of.flight       82639 non-null  object        \n",
      " 22  Air.carrier             16609 non-null  object        \n",
      " 23  Total.Fatal.Injuries    77391 non-null  float64       \n",
      " 24  Total.Serious.Injuries  76287 non-null  float64       \n",
      " 25  Total.Minor.Injuries    76863 non-null  float64       \n",
      " 26  Total.Uninjured         82880 non-null  float64       \n",
      " 27  Weather.Condition       84338 non-null  object        \n",
      " 28  Broad.phase.of.flight   61683 non-null  object        \n",
      " 29  Report.Status           82442 non-null  object        \n",
      " 30  Publication.Date        75012 non-null  object        \n",
      "dtypes: datetime64[ns](1), float64(5), object(25)\n",
      "memory usage: 21.7+ MB\n"
     ]
    }
   ],
   "source": [
    "#Dropping rows if the make or model is missing.\n",
    "#We want to identify which plane is the best investment and cant do so if this info is missing.\n",
    "df.dropna(subset=['Make', 'Model'], inplace=True)\n",
    "df.info()"
   ]
  },
  {
   "cell_type": "code",
   "execution_count": 14,
   "metadata": {},
   "outputs": [
    {
     "name": "stdout",
     "output_type": "stream",
     "text": [
      "<class 'pandas.core.frame.DataFrame'>\n",
      "Int64Index: 88777 entries, 0 to 88888\n",
      "Data columns (total 25 columns):\n",
      " #   Column                  Non-Null Count  Dtype         \n",
      "---  ------                  --------------  -----         \n",
      " 0   Event.Id                88777 non-null  object        \n",
      " 1   Investigation.Type      88777 non-null  object        \n",
      " 2   Accident.Number         88777 non-null  object        \n",
      " 3   Event.Date              88777 non-null  datetime64[ns]\n",
      " 4   Location                88725 non-null  object        \n",
      " 5   Country                 88552 non-null  object        \n",
      " 6   Airport.Code            50213 non-null  object        \n",
      " 7   Airport.Name            52746 non-null  object        \n",
      " 8   Injury.Severity         87798 non-null  object        \n",
      " 9   Aircraft.damage         85605 non-null  object        \n",
      " 10  Aircraft.Category       32245 non-null  object        \n",
      " 11  Registration.Number     87502 non-null  object        \n",
      " 12  Make                    88777 non-null  object        \n",
      " 13  Model                   88777 non-null  object        \n",
      " 14  Amateur.Built           88678 non-null  object        \n",
      " 15  Number.of.Engines       82754 non-null  float64       \n",
      " 16  Engine.Type             81771 non-null  object        \n",
      " 17  Purpose.of.flight       82639 non-null  object        \n",
      " 18  Total.Fatal.Injuries    77391 non-null  float64       \n",
      " 19  Total.Serious.Injuries  76287 non-null  float64       \n",
      " 20  Total.Minor.Injuries    76863 non-null  float64       \n",
      " 21  Total.Uninjured         82880 non-null  float64       \n",
      " 22  Weather.Condition       84338 non-null  object        \n",
      " 23  Broad.phase.of.flight   61683 non-null  object        \n",
      " 24  Report.Status           82442 non-null  object        \n",
      "dtypes: datetime64[ns](1), float64(5), object(19)\n",
      "memory usage: 17.6+ MB\n"
     ]
    }
   ],
   "source": [
    "# Drop unnecessary columns\n",
    "# Columns to drop\n",
    "drop_columns = ['Latitude', 'Longitude', 'FAR.Description', 'Schedule', 'Air.carrier', 'Publication.Date']\n",
    "# Drop columns in the specified list\n",
    "df = df.drop(columns=drop_columns)\n",
    "df.info()"
   ]
  },
  {
   "cell_type": "code",
   "execution_count": 15,
   "metadata": {},
   "outputs": [],
   "source": [
    "# Extracting year, month, and day\n",
    "df['year'] = df['Event.Date'].dt.year\n",
    "df['month'] = df['Event.Date'].dt.month\n",
    "df['day'] = df['Event.Date'].dt.day"
   ]
  },
  {
   "cell_type": "code",
   "execution_count": 16,
   "metadata": {},
   "outputs": [],
   "source": [
    "# Making the make and model column value names easier to use\n",
    "\n",
    "# Here we are making the 'Make' column consistent\n",
    "df['Make']=df['Make'].str.lower()"
   ]
  },
  {
   "cell_type": "code",
   "execution_count": 17,
   "metadata": {},
   "outputs": [],
   "source": [
    "# Here we are making the 'Model' column consistent by removing spaces, -, and _.\n",
    "# Function to process a single value\n",
    "def process_category(value):\n",
    "    # Convert to lowercase, remove spaces, dashes, and underscores, and combine all words\n",
    "    return ''.join(value.lower().replace(' ', '').replace('-', '').replace('_', ''))\n",
    "\n",
    "df['Model'] = df['Model'].apply(process_category)"
   ]
  },
  {
   "cell_type": "code",
   "execution_count": 18,
   "metadata": {},
   "outputs": [
    {
     "data": {
      "text/plain": [
       "cessna 152                2366\n",
       "cessna 172                1753\n",
       "cessna 172n               1171\n",
       "piper pa28140             1001\n",
       "cessna 172m                829\n",
       "                          ... \n",
       "rose vp1                     1\n",
       "sam hale longez              1\n",
       "james h berard rv6a          1\n",
       "john goodman aircamper       1\n",
       "hanson varieze               1\n",
       "Name: Make/Model, Length: 15844, dtype: int64"
      ]
     },
     "execution_count": 18,
     "metadata": {},
     "output_type": "execute_result"
    }
   ],
   "source": [
    "# Here we are creating a new column that combines Make and Model\n",
    "df['Make/Model'] = df['Make']+\" \"+df['Model']\n",
    "df['Make/Model'].value_counts()"
   ]
  },
  {
   "cell_type": "code",
   "execution_count": 19,
   "metadata": {},
   "outputs": [],
   "source": [
    "#Here we are seeing if the make/model for a specific aircraft category matches another row where aircraft category is null.\n",
    "\n",
    "# 1. df['Aircraft.Category'].isna(): \n",
    "#This part creates a boolean mask where it checks if the values in the 'Aircraft.Category' column are NaN. \n",
    "#It returns True for NaN values and False otherwise.\n",
    "\n",
    "# 2. df['Make/Model'].isin(df[df['Aircraft.Category'] == 'Airplane']['Make/Model']): \n",
    "# This part creates another boolean mask. It checks if the values in the 'Make/Model' \n",
    "# column are present in the 'Make/Model' column of rows where 'Aircraft.Category' is equal to 'Airplane'. \n",
    "# It returns True for rows where the 'Make/Model' is in the list of 'Make/Model' values for 'Airplane'.\n",
    "\n",
    "# 3. mask = df['Aircraft.Category'].isna() & ...: \n",
    "# This line combines the two boolean masks using the bitwise AND (&) operator. \n",
    "# The resulting mask will be True for rows where 'Aircraft.Category' is NaN and the corresponding 'Make/Model' \n",
    "# is in the list of 'Make/Model' values for 'Airplane'.\n",
    "\n",
    "Airplane_mask = df['Aircraft.Category'].isna() & df['Make/Model'].isin(df[df['Aircraft.Category'] == 'Airplane']['Make/Model'])\n",
    "Helicopter_mask = df['Aircraft.Category'].isna() & df['Make/Model'].isin(df[df['Aircraft.Category'] == 'Helicopter']['Make/Model'])\n",
    "Glider_mask = df['Aircraft.Category'].isna() & df['Make/Model'].isin(df[df['Aircraft.Category'] == 'Glider']['Make/Model'])\n",
    "Balloon_mask = df['Aircraft.Category'].isna() & df['Make/Model'].isin(df[df['Aircraft.Category'] == 'Balloon']['Make/Model'])\n",
    "Gyrocraft_mask = df['Aircraft.Category'].isna() & df['Make/Model'].isin(df[df['Aircraft.Category'] == 'Gyrocraft']['Make/Model'])\n",
    "WeightShift_mask = df['Aircraft.Category'].isna() & df['Make/Model'].isin(df[df['Aircraft.Category'] == 'Weight-Shift']['Make/Model'])\n",
    "PoweredParachute_mask = df['Aircraft.Category'].isna() & df['Make/Model'].isin(df[df['Aircraft.Category'] == 'Powered Parachute']['Make/Model'])\n",
    "Ultralight_mask = df['Aircraft.Category'].isna() & df['Make/Model'].isin(df[df['Aircraft.Category'] == 'Ultralight']['Make/Model'])\n",
    "Unknown_mask = df['Aircraft.Category'].isna() & df['Make/Model'].isin(df[df['Aircraft.Category'] == 'Unknown']['Make/Model'])\n",
    "WSFT_mask = df['Aircraft.Category'].isna() & df['Make/Model'].isin(df[df['Aircraft.Category'] == 'WSFT']['Make/Model'])\n",
    "PoweredLift_mask = df['Aircraft.Category'].isna() & df['Make/Model'].isin(df[df['Aircraft.Category'] == 'Powered-Lift']['Make/Model'])\n",
    "Blimp_mask = df['Aircraft.Category'].isna() & df['Make/Model'].isin(df[df['Aircraft.Category'] == 'Blimp']['Make/Model'])\n",
    "UNK_mask = df['Aircraft.Category'].isna() & df['Make/Model'].isin(df[df['Aircraft.Category'] == 'UNK']['Make/Model'])\n",
    "ULTR_mask = df['Aircraft.Category'].isna() & df['Make/Model'].isin(df[df['Aircraft.Category'] == 'ULTR']['Make/Model'])\n",
    "Rocket_mask = df['Aircraft.Category'].isna() & df['Make/Model'].isin(df[df['Aircraft.Category'] == 'Rocket']['Make/Model'])"
   ]
  },
  {
   "cell_type": "code",
   "execution_count": 20,
   "metadata": {},
   "outputs": [
    {
     "data": {
      "text/plain": [
       "Airplane             69263\n",
       "Helicopter            7420\n",
       "Glider                1030\n",
       "Balloon                435\n",
       "Unknown                235\n",
       "Gyrocraft              219\n",
       "Weight-Shift           162\n",
       "Powered Parachute       92\n",
       "Ultralight              38\n",
       "Powered-Lift            30\n",
       "WSFT                    11\n",
       "Blimp                    5\n",
       "UNK                      2\n",
       "ULTR                     1\n",
       "Rocket                   1\n",
       "Name: Aircraft.Category, dtype: int64"
      ]
     },
     "execution_count": 20,
     "metadata": {},
     "output_type": "execute_result"
    }
   ],
   "source": [
    "#Here we are applying the condition above, and reclassfying the Aircraft category if there was a match.\n",
    "df.loc[Airplane_mask, 'Aircraft.Category'] = 'Airplane'\n",
    "df.loc[Helicopter_mask, 'Aircraft.Category'] = 'Helicopter'\n",
    "df.loc[Glider_mask, 'Aircraft.Category'] = 'Glider'\n",
    "df.loc[Balloon_mask, 'Aircraft.Category'] = 'Balloon'\n",
    "df.loc[Gyrocraft_mask, 'Aircraft.Category'] = 'Gyrocraft'\n",
    "df.loc[WeightShift_mask, 'Aircraft.Category'] = 'Weight-Shift'\n",
    "df.loc[PoweredParachute_mask, 'Aircraft.Category'] = 'Powered Parachute'\n",
    "df.loc[Ultralight_mask, 'Aircraft.Category'] = 'Ultralight'\n",
    "df.loc[Unknown_mask, 'Aircraft.Category'] = 'Unknown'\n",
    "df.loc[WSFT_mask, 'Aircraft.Category'] = 'WSFT'\n",
    "df.loc[PoweredLift_mask, 'Aircraft.Category'] = 'Powered-Lift'\n",
    "df.loc[Blimp_mask, 'Aircraft.Category'] = 'Blimp'\n",
    "df.loc[UNK_mask, 'Aircraft.Category'] = 'UNK'\n",
    "df.loc[ULTR_mask, 'Aircraft.Category'] = 'ULTR'\n",
    "df.loc[Rocket_mask, 'Aircraft.Category'] = 'Rocket'\n",
    "\n",
    "# New value count of Airplanes, we were able to classify ~40k new airplanes, that were previously NA\n",
    "df['Aircraft.Category'].value_counts()"
   ]
  },
  {
   "cell_type": "code",
   "execution_count": 21,
   "metadata": {},
   "outputs": [
    {
     "data": {
      "text/plain": [
       "bell 206l3                                 97\n",
       "schweizer 269c                             89\n",
       "bell 412                                   23\n",
       "mitsubishi mu300                            8\n",
       "agusta a119                                 5\n",
       "quad city challenger                        3\n",
       "rans s7                                     3\n",
       "robinson helicopter company r44ii           1\n",
       "cessna aircraft company 560xl               1\n",
       "quicksilver mxlsportii                      1\n",
       "amateur construction denneykitfoxmk2        1\n",
       "varieze ruatan                              1\n",
       "parachute icarus crossfire2                 1\n",
       "sui ry, laurinen janne, kääriä compair8     1\n",
       "Name: Make/Model, dtype: int64"
      ]
     },
     "execution_count": 21,
     "metadata": {},
     "output_type": "execute_result"
    }
   ],
   "source": [
    "#Investigating the unknown aircraft category by make and model, to find any aircrafts.\n",
    "unknown_aircraft_df = df[df['Aircraft.Category']=='Unknown']\n",
    "unknown_aircraft_df['Make/Model'].value_counts()"
   ]
  },
  {
   "cell_type": "code",
   "execution_count": 22,
   "metadata": {},
   "outputs": [],
   "source": [
    "# Identifying airplanes in the unknown aircraft category and classifying them as airplanes.\n",
    "\n",
    "unknown_condition_airplane=((df['Aircraft.Category'] == 'Unknown') & \n",
    "                   ((df['Make/Model'] == 'rans s7') | (df['Make/Model'] == 'cessna aircraft company 560xl') | \n",
    "                    (df['Make/Model'] == 'mitsubishi mu300')))\n",
    "df.loc[unknown_condition_airplane, 'Aircraft.Category'] = 'Airplane'\n",
    "\n",
    "#Now we can just drop all rows where the aircraft category is unknown since there are no more airplanes in the categorgy."
   ]
  },
  {
   "cell_type": "code",
   "execution_count": 23,
   "metadata": {},
   "outputs": [
    {
     "data": {
      "text/plain": [
       "boeing               443\n",
       "cessna               340\n",
       "beech                314\n",
       "piper                265\n",
       "mcdonnell douglas    132\n",
       "                    ... \n",
       "duke, clarence e.      1\n",
       "foulke                 1\n",
       "cohen                  1\n",
       "horner-ryan            1\n",
       "gordorn price          1\n",
       "Name: Make, Length: 3982, dtype: int64"
      ]
     },
     "execution_count": 23,
     "metadata": {},
     "output_type": "execute_result"
    }
   ],
   "source": [
    "# Now lets investigate the NaN values in aircraft categorgy.\n",
    "\n",
    "None_aircraft_df = df[df['Aircraft.Category'].isna()]\n",
    "None_aircraft_df['Make'].value_counts()"
   ]
  },
  {
   "cell_type": "code",
   "execution_count": 24,
   "metadata": {},
   "outputs": [],
   "source": [
    "#Here we are assigning the variable 'airplane' to well known airplane manufactures that dont have a aircraft classification.\n",
    "\n",
    "df.loc[(df['Aircraft.Category'].isna()) & (df['Make'] == 'boeing'), 'Aircraft.Category'] = 'Airplane'\n",
    "df.loc[(df['Aircraft.Category'].isna()) & (df['Make'] == 'cessna'), 'Aircraft.Category'] = 'Airplane'\n",
    "df.loc[(df['Aircraft.Category'].isna()) & (df['Make'] == 'beech'), 'Aircraft.Category'] = 'Airplane'\n",
    "df.loc[(df['Aircraft.Category'].isna()) & (df['Make'] == 'beechcraft'), 'Aircraft.Category'] = 'Airplane'\n",
    "df.loc[(df['Aircraft.Category'].isna()) & (df['Make'] == 'piper'), 'Aircraft.Category'] = 'Airplane'\n",
    "df.loc[(df['Aircraft.Category'].isna()) & (df['Make'] == 'mcdonnell douglas'), 'Aircraft.Category'] = 'Airplane'\n",
    "df.loc[(df['Aircraft.Category'].isna()) & (df['Make'] == 'douglas'), 'Aircraft.Category'] = 'Airplane'"
   ]
  },
  {
   "cell_type": "code",
   "execution_count": 25,
   "metadata": {},
   "outputs": [],
   "source": [
    "#Now we drop all rows in the aircraft category column that don't equal airplane\n",
    "airplane_df = df[df['Aircraft.Category'] == 'Airplane']"
   ]
  },
  {
   "cell_type": "markdown",
   "metadata": {},
   "source": [
    "Now we are investigating the injurity serverity. As a flight school, our students saftey is our top priority and we want to make sure our students are in the safest plane on the market. In order to determine wether a plane is safe or not, we need to examine the survival rate, by analyzing the four injury columns (Total.Fatal.Injuries, Total.Serious.Injuries, Total.Minor.Injuries, and Total.Uninjured)."
   ]
  },
  {
   "cell_type": "code",
   "execution_count": 26,
   "metadata": {},
   "outputs": [
    {
     "name": "stdout",
     "output_type": "stream",
     "text": [
      "True\n",
      "True\n",
      "True\n",
      "True\n"
     ]
    }
   ],
   "source": [
    "#Now we are investigating the NaN injurity serverity columns.\n",
    "filtered_df = airplane_df[airplane_df['Injury.Severity'].isnull()]\n",
    "\n",
    "# Here I am checking to make sure there are no injuries recorded in these rows.\n",
    "#We are good to remove rows where the Injury Severity is null.\n",
    "print(filtered_df['Total.Fatal.Injuries'].sum() == 0)\n",
    "print(filtered_df['Total.Serious.Injuries'].sum() == 0)\n",
    "print(filtered_df['Total.Minor.Injuries'].sum() == 0)\n",
    "print(filtered_df['Total.Uninjured'].sum() == 0)"
   ]
  },
  {
   "cell_type": "code",
   "execution_count": 27,
   "metadata": {},
   "outputs": [],
   "source": [
    "#Drop rows where the Injury Severity is NA, since we have no accounts of anybody being onboard.\n",
    "airplane_df =airplane_df.dropna(subset=['Injury.Severity'])"
   ]
  },
  {
   "cell_type": "code",
   "execution_count": 28,
   "metadata": {},
   "outputs": [],
   "source": [
    "#I'm dropping rows, where there is no information to how many passangers were on board.  \n",
    "columns_to_check = ['Total.Fatal.Injuries','Total.Serious.Injuries','Total.Minor.Injuries','Total.Uninjured']\n",
    "airplane_df.dropna(subset=columns_to_check, how='all', inplace=True)"
   ]
  },
  {
   "cell_type": "code",
   "execution_count": 29,
   "metadata": {},
   "outputs": [],
   "source": [
    "#Now that one of the four 'columns_to_check' has a value in it, We replace those NA values with 0\n",
    "airplane_df[columns_to_check] = airplane_df[columns_to_check].fillna(0)"
   ]
  },
  {
   "cell_type": "markdown",
   "metadata": {},
   "source": [
    "Now we can investigate the amateur build column. We do not want to include aircrafts that are built by amateurs, so we will exclude all those rows."
   ]
  },
  {
   "cell_type": "code",
   "execution_count": 30,
   "metadata": {},
   "outputs": [],
   "source": [
    "# Amatuer built column analysis.\n",
    "# First I will investigate the NA values in this column, and if the make/model matches another rows make and model, replace NA value.\n",
    "\n",
    "no_amatuer_mask = airplane_df['Amateur.Built'].isna() & airplane_df['Make/Model'].isin(airplane_df[airplane_df['Amateur.Built'] == 'No']['Make/Model'])\n",
    "yes_amatuer_mask = airplane_df['Amateur.Built'].isna() & airplane_df['Make/Model'].isin(airplane_df[airplane_df['Amateur.Built'] == 'Yes']['Make/Model'])\n",
    "airplane_df.loc[no_amatuer_mask, 'Amateur.Built'] = 'No'\n",
    "airplane_df.loc[yes_amatuer_mask, 'Amateur.Built'] = 'Yes'\n",
    "\n",
    "# airplane_df[airplane_df['Amateur.Built'].isnull()] \n",
    "#Only 3 NAs left, we can drop these rows as these are not planes we are interested in investigating.\n",
    "\n",
    "# Now I'm gonna remove all rows where Amatuer built is = yes or null\n",
    "condition = (airplane_df['Amateur.Built'] == 'Yes') | airplane_df['Amateur.Built'].isnull()\n",
    "airplane_df = airplane_df[~condition]"
   ]
  },
  {
   "cell_type": "code",
   "execution_count": 31,
   "metadata": {},
   "outputs": [
    {
     "data": {
      "text/plain": [
       "No    66259\n",
       "Name: Amateur.Built, dtype: int64"
      ]
     },
     "execution_count": 31,
     "metadata": {},
     "output_type": "execute_result"
    }
   ],
   "source": [
    "#Checking to make sure we have No as the only option.\n",
    "airplane_df['Amateur.Built'].value_counts()"
   ]
  },
  {
   "cell_type": "code",
   "execution_count": 32,
   "metadata": {},
   "outputs": [],
   "source": [
    "# #Now lets investigate the Aircraft.damage column.\n",
    "\n",
    "# airplane_df['Aircraft.damage'].unique() #['Destroyed', 'Substantial', 'Minor', nan, 'Unknown']\n",
    "# airplane_df['Aircraft.damage'].value_counts() #Substantial=48728 , Destroyed=13541, Minor=1984, Unknown=74\n",
    "# airplane_df[airplane_df['Aircraft.damage'].isnull()] #1932 rows that are NAN.\n",
    "\n",
    "# airplane_df[airplane_df['Aircraft.damage'] == 'Substantial'] # There are some rows where there are only unijured entries.\n",
    "# #Therefor3 it is not okay to assume that the aircraft was minor damage if there are only uninjured passangers\n",
    "# airplane_df[airplane_df['Aircraft.damage'] == 'Destroyed']\n",
    "# airplane_df[airplane_df['Aircraft.damage'] == 'Minor']\n",
    "# airplane_df[airplane_df['Aircraft.damage'] == 'Unknown']\n",
    "\n",
    "# #Initial hypothesis: If everyone onboard dies, can we classify the Aircraft damage as Destroyed?\n",
    "# airplane_df[((airplane_df['Total.Fatal.Injuries'] > 0) &\n",
    "#     (airplane_df['Total.Serious.Injuries'] == 0) &\n",
    "#     (airplane_df['Total.Minor.Injuries'] == 0) &\n",
    "#     (airplane_df['Total.Uninjured'] == 0) &\n",
    "#     ~airplane_df['Aircraft.damage'].isna()\n",
    "# )]['Aircraft.damage'].value_counts()\n",
    "\n",
    "# #Here I am showing that even when only looking at cases where everyone dies. We still cannot conclude the damage type.\n",
    "# #Therefor imputation will not work."
   ]
  },
  {
   "cell_type": "code",
   "execution_count": 33,
   "metadata": {},
   "outputs": [],
   "source": [
    "#Dropping rows where the aircraft damage is null or unknown. We should drop 2,006 rows.\n",
    "airplane_df = airplane_df.dropna(subset=['Aircraft.damage'])\n",
    "airplane_df = airplane_df[airplane_df['Aircraft.damage'] != 'Unknown']"
   ]
  },
  {
   "cell_type": "code",
   "execution_count": 34,
   "metadata": {},
   "outputs": [
    {
     "data": {
      "text/plain": [
       "cessna                     26698\n",
       "piper                      14654\n",
       "beech                       5258\n",
       "boeing                      1358\n",
       "mooney                      1269\n",
       "                           ...  \n",
       "north american rockwell        1\n",
       "williams yakovlev              1\n",
       "sachse stephan                 1\n",
       "jm kemp                        1\n",
       "culp john s                    1\n",
       "Name: Make, Length: 1099, dtype: int64"
      ]
     },
     "execution_count": 34,
     "metadata": {},
     "output_type": "execute_result"
    }
   ],
   "source": [
    "airplane_df['Make'].value_counts()"
   ]
  },
  {
   "cell_type": "markdown",
   "metadata": {},
   "source": [
    "Now we want to identify the top plane make and models that are used in flight school. There is no sense in analysing a Boeing 747 as it is not a proper plane to learn how to fly in. According to the [Pilot Institute](https://pilotinstitute.com/flight-school-aircraft/) and the [Aircraft Owners and Pilots Association](https://www.aopa.org/training-and-safety/learn-to-fly/flying-for-fun/choose-where-to-train/training-aircraft-review#:~:text=Cessna%20172%3A%20The%20Cessna%20172,%2Dinjected%20four%2Dcylinder%20engines.), the top aircraft make and models used in flight school are the Cessna 172, Piper PA-28 Cherokee, Cessna 150, and Cessna 152. Given these are the most common and most affordable aircrafts compared to some of the other more expensive make and models like the Cirrus SR20/22 and Diamond DA20/40, we decided to narrow our search down to just these four planes."
   ]
  },
  {
   "cell_type": "markdown",
   "metadata": {},
   "source": [
    "### Cessna 172\n",
    "![Cessna 172](./images/cessna_172.jpg)"
   ]
  },
  {
   "cell_type": "markdown",
   "metadata": {},
   "source": [
    "### Piper PA-28 Cherokee\n",
    "![Piper_pa28](./images/piper_pa28.jpg)"
   ]
  },
  {
   "cell_type": "markdown",
   "metadata": {},
   "source": [
    "### Cessna 150\n",
    "![Cessna 150](./images/cessna_150.jpg)"
   ]
  },
  {
   "cell_type": "markdown",
   "metadata": {},
   "source": [
    "### Cessna 152\n",
    "![Cessna 152](./images/cessna_152.jpg)"
   ]
  },
  {
   "cell_type": "code",
   "execution_count": 35,
   "metadata": {},
   "outputs": [
    {
     "data": {
      "text/plain": [
       "cessna               26756\n",
       "piper                14722\n",
       "beech                 5258\n",
       "boeing                1358\n",
       "mooney                1269\n",
       "                     ...  \n",
       "williams yakovlev        1\n",
       "sachse stephan           1\n",
       "jm kemp                  1\n",
       "liberty                  1\n",
       "culp john s              1\n",
       "Name: Make, Length: 1074, dtype: int64"
      ]
     },
     "execution_count": 35,
     "metadata": {},
     "output_type": "execute_result"
    }
   ],
   "source": [
    "#The code below shows that there are more instances of piper and cessna than what we originally had caputured.\n",
    "# cessna=26698\n",
    "# piper=14654\n",
    "# airplane_df[airplane_df['Make'].str.contains('piper', case=False, na=False)] #14,722 instances\n",
    "# airplane_df[airplane_df['Make'].str.contains('cessna', case=False, na=False)] #26,756 instances\n",
    "\n",
    "#Here I am making sure the make values for pipper and cessna is consistent throught the dataframe.\n",
    "airplane_df.loc[airplane_df['Make'].str.contains('piper', case=False, na=False), 'Make'] = 'piper'\n",
    "airplane_df.loc[airplane_df['Make'].str.contains('cessna', case=False, na=False), 'Make'] = 'cessna'\n",
    "airplane_df['Make'].value_counts()"
   ]
  },
  {
   "cell_type": "code",
   "execution_count": 36,
   "metadata": {},
   "outputs": [],
   "source": [
    "# To make sure we capture all the models of interest, the cessna 172 is also commonly known as “The Cessna Skyhawk”. \n",
    "# Below we replace the model name with 172 if Skyhawk occurs in the model number.\n",
    "airplane_df.loc[airplane_df['Model'].str.contains('Skyhawk', case=False, na=False), 'Model'] = '172'"
   ]
  },
  {
   "cell_type": "code",
   "execution_count": 37,
   "metadata": {},
   "outputs": [
    {
     "data": {
      "text/plain": [
       "172      6702\n",
       "pa-28    4808\n",
       "150      3251\n",
       "152      2497\n",
       "Name: model_new, dtype: int64"
      ]
     },
     "execution_count": 37,
     "metadata": {},
     "output_type": "execute_result"
    }
   ],
   "source": [
    "# Here I am creating a new column to classify all versions of the Pipper pa-28, cessna 152, cessna 150, and cessna 172\n",
    "# so that we can aggregate each model together.\n",
    "# We will leave the original model column unchanged to later analysis the differences between different versions.\n",
    "# For example: cessna 150n vs cessna 150m\n",
    "\n",
    "make_column = 'Make'\n",
    "model_column = 'Model'\n",
    "new_column = 'model_new'\n",
    "\n",
    "# Create a new column 'model_new' based on conditions\n",
    "airplane_df[new_column] = airplane_df.apply(\n",
    "    lambda row: 'pa-28' if row[make_column] == 'piper' and 'pa28' in row[model_column].lower() else (\n",
    "        '152' if row[make_column] == 'cessna' and '152' in row[model_column] else (\n",
    "            '172' if row[make_column] == 'cessna' and '172' in row[model_column] else (\n",
    "                '150' if row[make_column] == 'cessna' and '150' in row[model_column] else None\n",
    "            )\n",
    "        )\n",
    "    ),\n",
    "    axis=1\n",
    ")\n",
    "\n",
    "airplane_df['model_new'].value_counts()"
   ]
  },
  {
   "cell_type": "code",
   "execution_count": 38,
   "metadata": {},
   "outputs": [],
   "source": [
    "# Now we create a new dataframe where we only examine the models we are interested in purchasing.\n",
    "planes_of_interest = airplane_df.dropna(subset=['model_new'])"
   ]
  },
  {
   "cell_type": "markdown",
   "metadata": {},
   "source": [
    "[Cessna 150/152 History](https://cessna150152club.org/cessna-150-history/)\n",
    "The Cessna 150 began production in 1957 and in 1978 Cessna introduced a revised model, the 152, with a 110 horsepower Lycoming 0-235 engine. The Lycoming was chosen to provide a long overdue increase in horsepower and make the 152 more compatible with the new 100LL fuel. The cabin was also widened slightly to make room for the increased girth of late 20th century pilots. Unlike the Model 150, there were few changes in 152s from one year to the next.\n",
    "\n",
    "By the end of production in 1985, 31,533 Cessna 150/152s had been manufactured worldwide. More pilots have flown Cessna 150s and 152s than any other single model of airplane. Like most light plane companies in the US, Cessna stopped building light aircraft all together in the mid 1980’s because of excessive product liability lawsuits. \n",
    "\n",
    "Used 150s and 152s are selling for three to five times their original price. Still, by comparison, the low quantities and astronomical prices of most other airplanes make the Cessna 150 and 152 one of the few genuine bargains in private aviation. Remarkably, 60 years after production began and 35 years since it ended, more than two thirds of all Cessna 150s and 152s built are still flying.\n",
    "\n",
    "[Cessna 172 History](https://flyfa.com/the-most-produced-aircraft-is-cessna-172-17-facts-about-cessna-172/)\n",
    "For the Cessna 172, Cessna delivered the first production model in 1956 and the model is still in production today.A new Cessna 172 runs around $400,000 to purchase. However, with a new aircraft, you'll have the advantage of the latest technology and a full warranty.\n",
    "\n",
    "[Piper PA-28 Cherokee](https://www.wikiwand.com/en/Piper_PA-28_Cherokee)\n",
    "The first PA-28 received its type certificate from the Federal Aviation Administration in 1960 and the series remains in production to this day. Current models are the Warrior, Arrow, and Archer TX and LX, and the Pilot 100 and 100i.\n"
   ]
  },
  {
   "cell_type": "code",
   "execution_count": 39,
   "metadata": {
    "scrolled": false
   },
   "outputs": [
    {
     "data": {
      "image/png": "[encoded data removed]",
      "text/plain": [
       "<Figure size 576x432 with 1 Axes>"
      ]
     },
     "metadata": {
      "needs_background": "light"
     },
     "output_type": "display_data"
    },
    {
     "data": {
      "image/png": "[encoded data removed]",
      "text/plain": [
       "<Figure size 576x432 with 1 Axes>"
      ]
     },
     "metadata": {
      "needs_background": "light"
     },
     "output_type": "display_data"
    },
    {
     "data": {
      "image/png": "[encoded data removed]",
      "text/plain": [
       "<Figure size 576x432 with 1 Axes>"
      ]
     },
     "metadata": {
      "needs_background": "light"
     },
     "output_type": "display_data"
    },
    {
     "data": {
      "image/png": "[encoded data removed]",
      "text/plain": [
       "<Figure size 576x432 with 1 Axes>"
      ]
     },
     "metadata": {
      "needs_background": "light"
     },
     "output_type": "display_data"
    },
    {
     "data": {
      "image/png": "[encoded data removed]",
      "text/plain": [
       "<Figure size 576x432 with 1 Axes>"
      ]
     },
     "metadata": {
      "needs_background": "light"
     },
     "output_type": "display_data"
    },
    {
     "data": {
      "image/png": "[encoded data removed]",
      "text/plain": [
       "<Figure size 576x432 with 1 Axes>"
      ]
     },
     "metadata": {
      "needs_background": "light"
     },
     "output_type": "display_data"
    }
   ],
   "source": [
    "# List of numerical columns to look for outliers.\n",
    "outlier_columns = ['Number.of.Engines', 'Total.Fatal.Injuries', 'Total.Serious.Injuries', 'Total.Minor.Injuries', 'Total.Uninjured', 'year']\n",
    "\n",
    "# Create a box plot for each specified column\n",
    "for column in outlier_columns:\n",
    "    plt.figure(figsize=(8, 6))\n",
    "    sns.boxplot(x=planes_of_interest[column])\n",
    "    plt.title(f'Box Plot for {column}')\n",
    "    plt.show()"
   ]
  },
  {
   "cell_type": "markdown",
   "metadata": {},
   "source": [
    "Given the infomation about production for each model and the years currently in the dataframe, we decided to only examine airplane incidents from 1986 to current. This will account for any of the last Cessna 150/152 models that were produced. "
   ]
  },
  {
   "cell_type": "code",
   "execution_count": 40,
   "metadata": {},
   "outputs": [
    {
     "data": {
      "text/html": [
       "<div>\n",
       "<style scoped>\n",
       "    .dataframe tbody tr th:only-of-type {\n",
       "        vertical-align: middle;\n",
       "    }\n",
       "\n",
       "    .dataframe tbody tr th {\n",
       "        vertical-align: top;\n",
       "    }\n",
       "\n",
       "    .dataframe thead th {\n",
       "        text-align: right;\n",
       "    }\n",
       "</style>\n",
       "<table border=\"1\" class=\"dataframe\">\n",
       "  <thead>\n",
       "    <tr style=\"text-align: right;\">\n",
       "      <th></th>\n",
       "      <th>Event.Id</th>\n",
       "      <th>Investigation.Type</th>\n",
       "      <th>Accident.Number</th>\n",
       "      <th>Event.Date</th>\n",
       "      <th>Location</th>\n",
       "      <th>Country</th>\n",
       "      <th>Airport.Code</th>\n",
       "      <th>Airport.Name</th>\n",
       "      <th>Injury.Severity</th>\n",
       "      <th>Aircraft.damage</th>\n",
       "      <th>...</th>\n",
       "      <th>Total.Minor.Injuries</th>\n",
       "      <th>Total.Uninjured</th>\n",
       "      <th>Weather.Condition</th>\n",
       "      <th>Broad.phase.of.flight</th>\n",
       "      <th>Report.Status</th>\n",
       "      <th>year</th>\n",
       "      <th>month</th>\n",
       "      <th>day</th>\n",
       "      <th>Make/Model</th>\n",
       "      <th>model_new</th>\n",
       "    </tr>\n",
       "  </thead>\n",
       "  <tbody>\n",
       "    <tr>\n",
       "      <th>15779</th>\n",
       "      <td>20001213X34444</td>\n",
       "      <td>Accident</td>\n",
       "      <td>DCA86AA041B</td>\n",
       "      <td>1986-08-31</td>\n",
       "      <td>CERRITOS, CA</td>\n",
       "      <td>United States</td>\n",
       "      <td>NaN</td>\n",
       "      <td>NaN</td>\n",
       "      <td>Fatal(82)</td>\n",
       "      <td>Destroyed</td>\n",
       "      <td>...</td>\n",
       "      <td>8.0</td>\n",
       "      <td>0.0</td>\n",
       "      <td>VMC</td>\n",
       "      <td>Climb</td>\n",
       "      <td>Probable Cause</td>\n",
       "      <td>1986</td>\n",
       "      <td>8</td>\n",
       "      <td>31</td>\n",
       "      <td>piper pa28181</td>\n",
       "      <td>pa-28</td>\n",
       "    </tr>\n",
       "  </tbody>\n",
       "</table>\n",
       "<p>1 rows × 30 columns</p>\n",
       "</div>"
      ],
      "text/plain": [
       "             Event.Id Investigation.Type Accident.Number Event.Date  \\\n",
       "15779  20001213X34444           Accident     DCA86AA041B 1986-08-31   \n",
       "\n",
       "           Location        Country Airport.Code Airport.Name Injury.Severity  \\\n",
       "15779  CERRITOS, CA  United States          NaN          NaN       Fatal(82)   \n",
       "\n",
       "      Aircraft.damage  ... Total.Minor.Injuries Total.Uninjured  \\\n",
       "15779       Destroyed  ...                  8.0             0.0   \n",
       "\n",
       "      Weather.Condition Broad.phase.of.flight   Report.Status  year month day  \\\n",
       "15779               VMC                 Climb  Probable Cause  1986     8  31   \n",
       "\n",
       "          Make/Model  model_new  \n",
       "15779  piper pa28181      pa-28  \n",
       "\n",
       "[1 rows x 30 columns]"
      ]
     },
     "execution_count": 40,
     "metadata": {},
     "output_type": "execute_result"
    }
   ],
   "source": [
    "# We should drop this row, as \n",
    "planes_of_interest[planes_of_interest['Total.Fatal.Injuries']>70]"
   ]
  },
  {
   "cell_type": "code",
   "execution_count": 41,
   "metadata": {
    "scrolled": false
   },
   "outputs": [
    {
     "data": {
      "image/png": "[encoded data removed]",
      "text/plain": [
       "<Figure size 720x432 with 1 Axes>"
      ]
     },
     "metadata": {
      "needs_background": "light"
     },
     "output_type": "display_data"
    }
   ],
   "source": [
    "\n",
    "make_column = 'Make'\n",
    "fatal_injuries_column = 'Total.Fatal.Injuries'\n",
    "serious_injuries_column = 'Total.Serious.Injuries'\n",
    "minor_injuries_column = 'Total.Minor.Injuries'\n",
    "uninjured_column = 'Total.Uninjured'\n",
    "\n",
    "# Group by 'Make' and sum the injuries\n",
    "grouped_df = planes_of_interest.groupby(make_column).agg({\n",
    "    fatal_injuries_column: 'sum',\n",
    "    serious_injuries_column: 'sum',\n",
    "    minor_injuries_column: 'sum',\n",
    "    uninjured_column: 'sum'\n",
    "}).reset_index()\n",
    "\n",
    "# Melt the DataFrame for easier plotting\n",
    "melted_df = pd.melt(grouped_df, id_vars=[make_column], var_name='Injury Type', value_name='Count')\n",
    "\n",
    "# Create a bar chart\n",
    "plt.figure(figsize=(10, 6))\n",
    "ax = sns.barplot(x=make_column, y='Count', hue='Injury Type', data=melted_df)\n",
    "plt.title('Number of Injuries for Cessna and Piper')\n",
    "plt.xlabel('Aircraft Make')\n",
    "plt.ylabel('Count')\n",
    "\n",
    "# Display counts (formatted as integers) at the top of each bar\n",
    "for p in ax.patches:\n",
    "    ax.annotate(f'{int(p.get_height())}', (p.get_x() + p.get_width() / 2., p.get_height()),\n",
    "                ha='center', va='center', xytext=(0, 10), textcoords='offset points')\n",
    "\n",
    "plt.show()"
   ]
  },
  {
   "cell_type": "code",
   "execution_count": 42,
   "metadata": {},
   "outputs": [
    {
     "data": {
      "image/png": "[encoded data removed]",
      "text/plain": [
       "<Figure size 720x432 with 1 Axes>"
      ]
     },
     "metadata": {
      "needs_background": "light"
     },
     "output_type": "display_data"
    }
   ],
   "source": [
    "\n",
    "make_column = 'Make'\n",
    "fatal_injuries_column = 'Total.Fatal.Injuries'\n",
    "serious_injuries_column = 'Total.Serious.Injuries'\n",
    "minor_injuries_column = 'Total.Minor.Injuries'\n",
    "uninjured_column = 'Total.Uninjured'\n",
    "\n",
    "# Group by 'Make' and calculate the average count of injuries per record\n",
    "grouped_df = planes_of_interest.groupby(make_column).agg({\n",
    "    fatal_injuries_column: 'mean',\n",
    "    serious_injuries_column: 'mean',\n",
    "    minor_injuries_column: 'mean',\n",
    "    uninjured_column: 'mean'\n",
    "}).reset_index()\n",
    "\n",
    "# Melt the DataFrame for easier plotting\n",
    "melted_df = pd.melt(grouped_df, id_vars=[make_column], var_name='Injury Type', value_name='Average Count')\n",
    "\n",
    "# Create a bar chart\n",
    "plt.figure(figsize=(10, 6))\n",
    "sns.barplot(x=make_column, y='Average Count', hue='Injury Type', data=melted_df)\n",
    "plt.title('Average Number of Injuries per Record for Cessna and Piper')\n",
    "plt.xlabel('Aircraft Make')\n",
    "plt.ylabel('Average Count')\n",
    "plt.show()"
   ]
  },
  {
   "cell_type": "code",
   "execution_count": 43,
   "metadata": {},
   "outputs": [
    {
     "data": {
      "image/png": "[encoded data removed]",
      "text/plain": [
       "<Figure size 1008x576 with 1 Axes>"
      ]
     },
     "metadata": {
      "needs_background": "light"
     },
     "output_type": "display_data"
    }
   ],
   "source": [
    "\n",
    "make_column = 'Make'\n",
    "model_column = 'model_new'\n",
    "fatal_injuries_column = 'Total.Fatal.Injuries'\n",
    "serious_injuries_column = 'Total.Serious.Injuries'\n",
    "minor_injuries_column = 'Total.Minor.Injuries'\n",
    "uninjured_column = 'Total.Uninjured'\n",
    "\n",
    "\n",
    "\n",
    "# Group by 'Make' and 'Model' and calculate the average count of injuries per record\n",
    "grouped_df = planes_of_interest.groupby([make_column, model_column]).agg({\n",
    "    fatal_injuries_column: 'sum',\n",
    "    serious_injuries_column: 'sum',\n",
    "    minor_injuries_column: 'sum',\n",
    "    uninjured_column: 'sum'\n",
    "}).reset_index()\n",
    "\n",
    "# Melt the DataFrame for easier plotting\n",
    "melted_df = pd.melt(grouped_df, id_vars=[make_column, model_column], var_name='Injury Type', value_name='Average Count')\n",
    "\n",
    "# Create a bar chart\n",
    "plt.figure(figsize=(14, 8))\n",
    "ax = sns.barplot(x=model_column, y='Average Count', hue='Injury Type', data=melted_df, ci=None)  # Set ci=None to remove error bars\n",
    "plt.title('Number of Injuries for Cessna and Piper Models')\n",
    "plt.xlabel('Aircraft Model')\n",
    "plt.ylabel('Count')\n",
    "\n",
    "# Display counts at the top of each bar\n",
    "for p in ax.patches:\n",
    "    ax.annotate(f'{int(p.get_height())}', (p.get_x() + p.get_width() / 2., p.get_height()),\n",
    "                ha='center', va='center', xytext=(0, 10), textcoords='offset points')\n",
    "\n",
    "\n",
    "plt.xticks(rotation=45, ha='right')  # Rotate x-axis labels for better visibility\n",
    "plt.show()"
   ]
  },
  {
   "cell_type": "code",
   "execution_count": 44,
   "metadata": {},
   "outputs": [
    {
     "data": {
      "image/png": "[encoded data removed]",
      "text/plain": [
       "<Figure size 1008x576 with 1 Axes>"
      ]
     },
     "metadata": {
      "needs_background": "light"
     },
     "output_type": "display_data"
    }
   ],
   "source": [
    "\n",
    "make_column = 'Make'\n",
    "model_column = 'model_new'\n",
    "fatal_injuries_column = 'Total.Fatal.Injuries'\n",
    "serious_injuries_column = 'Total.Serious.Injuries'\n",
    "minor_injuries_column = 'Total.Minor.Injuries'\n",
    "uninjured_column = 'Total.Uninjured'\n",
    "\n",
    "\n",
    "\n",
    "# Group by 'Make' and 'Model' and calculate the average count of injuries per record\n",
    "grouped_df = planes_of_interest.groupby([make_column, model_column]).agg({\n",
    "    fatal_injuries_column: 'mean',\n",
    "    serious_injuries_column: 'mean',\n",
    "    minor_injuries_column: 'mean',\n",
    "    uninjured_column: 'mean'\n",
    "}).reset_index()\n",
    "\n",
    "# Melt the DataFrame for easier plotting\n",
    "melted_df = pd.melt(grouped_df, id_vars=[make_column, model_column], var_name='Injury Type', value_name='Average Count')\n",
    "\n",
    "# Create a bar chart\n",
    "plt.figure(figsize=(14, 8))\n",
    "sns.barplot(x=model_column, y='Average Count', hue='Injury Type', data=melted_df, ci=None)  # Set ci=None to remove error bars\n",
    "plt.title('Average Number of Injuries per Record for Cessna and Piper Models')\n",
    "plt.xlabel('Aircraft Model')\n",
    "plt.ylabel('Average Count')\n",
    "plt.xticks(rotation=45, ha='right')  # Rotate x-axis labels for better visibility\n",
    "plt.show()"
   ]
  }
 ],
 "metadata": {
  "kernelspec": {
   "display_name": "Python (learn-env)",
   "language": "python",
   "name": "learn-env"
  },
  "language_info": {
   "codemirror_mode": {
    "name": "ipython",
    "version": 3
   },
   "file_extension": ".py",
   "mimetype": "text/x-python",
   "name": "python",
   "nbconvert_exporter": "python",
   "pygments_lexer": "ipython3",
   "version": "3.8.5"
  }
 },
 "nbformat": 4,
 "nbformat_minor": 4
}
